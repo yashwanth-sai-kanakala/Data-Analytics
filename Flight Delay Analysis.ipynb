{
  "cells": [
    {
      "cell_type": "markdown",
      "id": "0258b061",
      "metadata": {
        "id": "0258b061"
      },
      "source": [
        "# 1. Import libraries and read the dfset"
      ]
    },
    {
      "cell_type": "code",
      "execution_count": null,
      "id": "c387bbc3",
      "metadata": {
        "id": "c387bbc3"
      },
      "outputs": [],
      "source": [
        "import pandas as pd\n",
        "import numpy as np\n",
        "import matplotlib.pyplot as plt\n",
        "import seaborn as sns\n",
        "from sklearn.model_selection import train_test_split\n",
        "from sklearn.preprocessing import LabelEncoder\n",
        "from sklearn.neighbors import KNeighborsClassifier\n",
        "from sklearn.svm import SVC\n",
        "from sklearn.naive_bayes import GaussianNB\n",
        "from sklearn.ensemble import RandomForestClassifier, AdaBoostClassifier\n",
        "from sklearn.metrics import precision_score, recall_score, f1_score, accuracy_score, confusion_matrix\n",
        "from sklearn.model_selection import GridSearchCV\n",
        "from sklearn.metrics import classification_report"
      ]
    },
    {
      "cell_type": "code",
      "execution_count": null,
      "id": "18fdf7e2",
      "metadata": {
        "id": "18fdf7e2"
      },
      "outputs": [],
      "source": [
        "data = pd.read_csv('ML_Assignment_new.csv')"
      ]
    },
    {
      "cell_type": "markdown",
      "id": "44126e45",
      "metadata": {
        "id": "44126e45"
      },
      "source": [
        "# 2.Data Visualization and Exploration"
      ]
    },
    {
      "cell_type": "code",
      "execution_count": null,
      "id": "9a776389",
      "metadata": {
        "colab": {
          "base_uri": "https://localhost:8080/"
        },
        "id": "9a776389",
        "outputId": "6998f69e-e3cb-400f-82e0-eabcd9fd6c50"
      },
      "outputs": [
        {
          "name": "stdout",
          "output_type": "stream",
          "text": [
            "   id Airline  Flight AirportFrom AirportTo  DayOfWeek  Time  Length  Delay\n",
            "0   1      CO     269         SFO       IAH          3    15     205      1\n",
            "1   2      US    1558         PHX       CLT          3    15     222      1\n"
          ]
        }
      ],
      "source": [
        "#Printing first two rows for sanity check\n",
        "print (data.head(2))"
      ]
    },
    {
      "cell_type": "code",
      "execution_count": null,
      "id": "80b79151",
      "metadata": {
        "colab": {
          "base_uri": "https://localhost:8080/"
        },
        "id": "80b79151",
        "outputId": "2d3795c1-e10c-4f66-a06c-4daad9b7897f"
      },
      "outputs": [
        {
          "name": "stdout",
          "output_type": "stream",
          "text": [
            "Number of rows: 539383\n",
            "Number of columns:9\n"
          ]
        }
      ],
      "source": [
        "df = data\n",
        "print(f\"Number of rows: {df.shape[0]}\\nNumber of columns:{df.shape[1]}\")"
      ]
    },
    {
      "cell_type": "code",
      "execution_count": null,
      "id": "29145e2d",
      "metadata": {
        "colab": {
          "base_uri": "https://localhost:8080/"
        },
        "id": "29145e2d",
        "outputId": "5b0c9212-82cd-4cc1-86f2-85d269c96393"
      },
      "outputs": [
        {
          "name": "stdout",
          "output_type": "stream",
          "text": [
            "<class 'pandas.core.frame.DataFrame'>\n",
            "RangeIndex: 539383 entries, 0 to 539382\n",
            "Data columns (total 9 columns):\n",
            " #   Column       Non-Null Count   Dtype \n",
            "---  ------       --------------   ----- \n",
            " 0   id           539383 non-null  int64 \n",
            " 1   Airline      539383 non-null  object\n",
            " 2   Flight       539383 non-null  int64 \n",
            " 3   AirportFrom  539383 non-null  object\n",
            " 4   AirportTo    539383 non-null  object\n",
            " 5   DayOfWeek    539383 non-null  int64 \n",
            " 6   Time         539383 non-null  int64 \n",
            " 7   Length       539383 non-null  int64 \n",
            " 8   Delay        539383 non-null  int64 \n",
            "dtypes: int64(6), object(3)\n",
            "memory usage: 37.0+ MB\n"
          ]
        }
      ],
      "source": [
        "df.info()"
      ]
    },
    {
      "cell_type": "code",
      "execution_count": null,
      "id": "f4b3da0c",
      "metadata": {
        "colab": {
          "base_uri": "https://localhost:8080/",
          "height": 394
        },
        "id": "f4b3da0c",
        "outputId": "b84c5eb7-5ff9-42c1-8667-5f11dfe9c802"
      },
      "outputs": [
        {
          "data": {
            "text/html": [
              "<div>\n",
              "<style scoped>\n",
              "    .dataframe tbody tr th:only-of-type {\n",
              "        vertical-align: middle;\n",
              "    }\n",
              "\n",
              "    .dataframe tbody tr th {\n",
              "        vertical-align: top;\n",
              "    }\n",
              "\n",
              "    .dataframe thead th {\n",
              "        text-align: right;\n",
              "    }\n",
              "</style>\n",
              "<table border=\"1\" class=\"dataframe\">\n",
              "  <thead>\n",
              "    <tr style=\"text-align: right;\">\n",
              "      <th></th>\n",
              "      <th>id</th>\n",
              "      <th>Airline</th>\n",
              "      <th>Flight</th>\n",
              "      <th>AirportFrom</th>\n",
              "      <th>AirportTo</th>\n",
              "      <th>DayOfWeek</th>\n",
              "      <th>Time</th>\n",
              "      <th>Length</th>\n",
              "      <th>Delay</th>\n",
              "    </tr>\n",
              "  </thead>\n",
              "  <tbody>\n",
              "    <tr>\n",
              "      <th>count</th>\n",
              "      <td>539383.00000</td>\n",
              "      <td>539383</td>\n",
              "      <td>539383.000000</td>\n",
              "      <td>539383</td>\n",
              "      <td>539383</td>\n",
              "      <td>539383.000000</td>\n",
              "      <td>539383.000000</td>\n",
              "      <td>539383.000000</td>\n",
              "      <td>539383.000000</td>\n",
              "    </tr>\n",
              "    <tr>\n",
              "      <th>unique</th>\n",
              "      <td>NaN</td>\n",
              "      <td>18</td>\n",
              "      <td>NaN</td>\n",
              "      <td>293</td>\n",
              "      <td>293</td>\n",
              "      <td>NaN</td>\n",
              "      <td>NaN</td>\n",
              "      <td>NaN</td>\n",
              "      <td>NaN</td>\n",
              "    </tr>\n",
              "    <tr>\n",
              "      <th>top</th>\n",
              "      <td>NaN</td>\n",
              "      <td>WN</td>\n",
              "      <td>NaN</td>\n",
              "      <td>ATL</td>\n",
              "      <td>ATL</td>\n",
              "      <td>NaN</td>\n",
              "      <td>NaN</td>\n",
              "      <td>NaN</td>\n",
              "      <td>NaN</td>\n",
              "    </tr>\n",
              "    <tr>\n",
              "      <th>freq</th>\n",
              "      <td>NaN</td>\n",
              "      <td>94097</td>\n",
              "      <td>NaN</td>\n",
              "      <td>34449</td>\n",
              "      <td>34440</td>\n",
              "      <td>NaN</td>\n",
              "      <td>NaN</td>\n",
              "      <td>NaN</td>\n",
              "      <td>NaN</td>\n",
              "    </tr>\n",
              "    <tr>\n",
              "      <th>mean</th>\n",
              "      <td>269692.00000</td>\n",
              "      <td>NaN</td>\n",
              "      <td>2427.928630</td>\n",
              "      <td>NaN</td>\n",
              "      <td>NaN</td>\n",
              "      <td>3.929668</td>\n",
              "      <td>802.728963</td>\n",
              "      <td>132.202007</td>\n",
              "      <td>0.445442</td>\n",
              "    </tr>\n",
              "    <tr>\n",
              "      <th>std</th>\n",
              "      <td>155706.60446</td>\n",
              "      <td>NaN</td>\n",
              "      <td>2067.429837</td>\n",
              "      <td>NaN</td>\n",
              "      <td>NaN</td>\n",
              "      <td>1.914664</td>\n",
              "      <td>278.045911</td>\n",
              "      <td>70.117016</td>\n",
              "      <td>0.497015</td>\n",
              "    </tr>\n",
              "    <tr>\n",
              "      <th>min</th>\n",
              "      <td>1.00000</td>\n",
              "      <td>NaN</td>\n",
              "      <td>1.000000</td>\n",
              "      <td>NaN</td>\n",
              "      <td>NaN</td>\n",
              "      <td>1.000000</td>\n",
              "      <td>10.000000</td>\n",
              "      <td>0.000000</td>\n",
              "      <td>0.000000</td>\n",
              "    </tr>\n",
              "    <tr>\n",
              "      <th>25%</th>\n",
              "      <td>134846.50000</td>\n",
              "      <td>NaN</td>\n",
              "      <td>712.000000</td>\n",
              "      <td>NaN</td>\n",
              "      <td>NaN</td>\n",
              "      <td>2.000000</td>\n",
              "      <td>565.000000</td>\n",
              "      <td>81.000000</td>\n",
              "      <td>0.000000</td>\n",
              "    </tr>\n",
              "    <tr>\n",
              "      <th>50%</th>\n",
              "      <td>269692.00000</td>\n",
              "      <td>NaN</td>\n",
              "      <td>1809.000000</td>\n",
              "      <td>NaN</td>\n",
              "      <td>NaN</td>\n",
              "      <td>4.000000</td>\n",
              "      <td>795.000000</td>\n",
              "      <td>115.000000</td>\n",
              "      <td>0.000000</td>\n",
              "    </tr>\n",
              "    <tr>\n",
              "      <th>75%</th>\n",
              "      <td>404537.50000</td>\n",
              "      <td>NaN</td>\n",
              "      <td>3745.000000</td>\n",
              "      <td>NaN</td>\n",
              "      <td>NaN</td>\n",
              "      <td>5.000000</td>\n",
              "      <td>1035.000000</td>\n",
              "      <td>162.000000</td>\n",
              "      <td>1.000000</td>\n",
              "    </tr>\n",
              "    <tr>\n",
              "      <th>max</th>\n",
              "      <td>539383.00000</td>\n",
              "      <td>NaN</td>\n",
              "      <td>7814.000000</td>\n",
              "      <td>NaN</td>\n",
              "      <td>NaN</td>\n",
              "      <td>7.000000</td>\n",
              "      <td>1439.000000</td>\n",
              "      <td>655.000000</td>\n",
              "      <td>1.000000</td>\n",
              "    </tr>\n",
              "  </tbody>\n",
              "</table>\n",
              "</div>"
            ],
            "text/plain": [
              "                  id Airline         Flight AirportFrom AirportTo  \\\n",
              "count   539383.00000  539383  539383.000000      539383    539383   \n",
              "unique           NaN      18            NaN         293       293   \n",
              "top              NaN      WN            NaN         ATL       ATL   \n",
              "freq             NaN   94097            NaN       34449     34440   \n",
              "mean    269692.00000     NaN    2427.928630         NaN       NaN   \n",
              "std     155706.60446     NaN    2067.429837         NaN       NaN   \n",
              "min          1.00000     NaN       1.000000         NaN       NaN   \n",
              "25%     134846.50000     NaN     712.000000         NaN       NaN   \n",
              "50%     269692.00000     NaN    1809.000000         NaN       NaN   \n",
              "75%     404537.50000     NaN    3745.000000         NaN       NaN   \n",
              "max     539383.00000     NaN    7814.000000         NaN       NaN   \n",
              "\n",
              "            DayOfWeek           Time         Length          Delay  \n",
              "count   539383.000000  539383.000000  539383.000000  539383.000000  \n",
              "unique            NaN            NaN            NaN            NaN  \n",
              "top               NaN            NaN            NaN            NaN  \n",
              "freq              NaN            NaN            NaN            NaN  \n",
              "mean         3.929668     802.728963     132.202007       0.445442  \n",
              "std          1.914664     278.045911      70.117016       0.497015  \n",
              "min          1.000000      10.000000       0.000000       0.000000  \n",
              "25%          2.000000     565.000000      81.000000       0.000000  \n",
              "50%          4.000000     795.000000     115.000000       0.000000  \n",
              "75%          5.000000    1035.000000     162.000000       1.000000  \n",
              "max          7.000000    1439.000000     655.000000       1.000000  "
            ]
          },
          "execution_count": 7,
          "metadata": {},
          "output_type": "execute_result"
        }
      ],
      "source": [
        "#descriptive statistics\n",
        "df.describe(include=\"all\")"
      ]
    },
    {
      "cell_type": "code",
      "execution_count": null,
      "id": "f740c23b",
      "metadata": {
        "colab": {
          "base_uri": "https://localhost:8080/",
          "height": 428
        },
        "id": "f740c23b",
        "outputId": "634b7ac8-59a2-4ba3-eff4-52889b330383"
      },
      "outputs": [
        {
          "name": "stdout",
          "output_type": "stream",
          "text": [
            "There are 240264 delayed flights out of 539383 total flights (44.54%)\n"
          ]
        },
        {
          "data": {
            "image/png": "[encoded data removed]",
            "text/plain": [
              "<Figure size 400x400 with 1 Axes>"
            ]
          },
          "metadata": {},
          "output_type": "display_data"
        }
      ],
      "source": [
        "#Check for class imbalance (imbalance in the number of delayed flights vs non-delayed flights)\n",
        "delayed_flights = len(df[df['Delay'] == 1])\n",
        "total_flights = len(df)\n",
        "percent_delayed = (delayed_flights / total_flights) * 100\n",
        "\n",
        "print(f\"There are {delayed_flights} delayed flights out of {total_flights} total flights ({percent_delayed:.2f}%)\")\n",
        "\n",
        "# Visualize class imbalance with a bar chart\n",
        "plt.figure(figsize=(4, 4))\n",
        "plt.bar(['Delayed Flights', 'Non-Delayed Flights'], [delayed_flights, total_flights - delayed_flights])\n",
        "plt.xlabel('Flight Delay Status')\n",
        "plt.ylabel('Number of Flights')\n",
        "plt.title('Distribution of Flight Delays')\n",
        "plt.show()"
      ]
    },
    {
      "cell_type": "code",
      "execution_count": null,
      "id": "229f653c",
      "metadata": {
        "colab": {
          "base_uri": "https://localhost:8080/",
          "height": 564
        },
        "id": "229f653c",
        "outputId": "dcada55f-4893-4cae-b40a-2cba8d4cd80c"
      },
      "outputs": [
        {
          "data": {
            "image/png": "[encoded data removed]",
            "text/plain": [
              "<Figure size 800x600 with 1 Axes>"
            ]
          },
          "metadata": {},
          "output_type": "display_data"
        }
      ],
      "source": [
        "plt.figure(figsize=(8, 6))\n",
        "sns.histplot(data['Length'], kde=True, color='skyblue')\n",
        "plt.title('Distribution of Flight Length')\n",
        "plt.xlabel('Flight Length (minutes)')\n",
        "plt.ylabel('Frequency')\n",
        "plt.show()\n",
        "\n"
      ]
    },
    {
      "cell_type": "code",
      "execution_count": null,
      "id": "7D9lnUmF5qR5",
      "metadata": {
        "colab": {
          "base_uri": "https://localhost:8080/",
          "height": 564
        },
        "id": "7D9lnUmF5qR5",
        "outputId": "c870343a-d8d0-4258-b97d-f783b7211a2f"
      },
      "outputs": [
        {
          "data": {
            "image/png": "[encoded data removed]",
            "text/plain": [
              "<Figure size 800x600 with 1 Axes>"
            ]
          },
          "metadata": {},
          "output_type": "display_data"
        }
      ],
      "source": [
        "# Bar chart for Day of Week\n",
        "plt.figure(figsize=(8, 6))\n",
        "plt.bar(df['DayOfWeek'].unique(), df['DayOfWeek'].value_counts(), color='salmon')\n",
        "plt.title('Distribution of Day of Week')\n",
        "plt.xlabel('Day of Week')\n",
        "plt.ylabel('Frequency')\n",
        "plt.show()"
      ]
    },
    {
      "cell_type": "code",
      "execution_count": null,
      "id": "dOC3lTH35qoL",
      "metadata": {
        "colab": {
          "base_uri": "https://localhost:8080/",
          "height": 734
        },
        "id": "dOC3lTH35qoL",
        "outputId": "8b70bd02-1293-4615-b87a-a04aeec4dbad"
      },
      "outputs": [
        {
          "data": {
            "image/png": "[encoded data removed]",
            "text/plain": [
              "<Figure size 800x600 with 1 Axes>"
            ]
          },
          "metadata": {},
          "output_type": "display_data"
        }
      ],
      "source": [
        "\n",
        "\n",
        "# Countplot for Airlines\n",
        "plt.figure(figsize=(8, 6))\n",
        "axis = sns.countplot(y=df['Airline'], data=df,\n",
        "                     order=df['Airline'].value_counts().index, palette=\"Set2\")\n",
        "axis.set_yticklabels(axis.get_yticklabels())\n",
        "plt.title('Distribution of Airlines')\n",
        "plt.xlabel('Frequency')\n",
        "plt.ylabel('Airline')\n",
        "plt.tight_layout()\n",
        "plt.show()"
      ]
    },
    {
      "cell_type": "code",
      "execution_count": null,
      "id": "58342bdc",
      "metadata": {
        "colab": {
          "base_uri": "https://localhost:8080/",
          "height": 755
        },
        "id": "58342bdc",
        "outputId": "d957b60d-9019-411c-90d6-68072b759ca5"
      },
      "outputs": [
        {
          "name": "stderr",
          "output_type": "stream",
          "text": [
            "C:\\Users\\I552152\\AppData\\Local\\Temp\\ipykernel_3456\\2646711563.py:1: FutureWarning: The default value of numeric_only in DataFrame.corr is deprecated. In a future version, it will default to False. Select only valid columns or specify the value of numeric_only to silence this warning.\n",
            "  correlation_matrix = data.corr()\n"
          ]
        },
        {
          "data": {
            "image/png": "[encoded data removed]",
            "text/plain": [
              "<Figure size 1000x800 with 2 Axes>"
            ]
          },
          "metadata": {},
          "output_type": "display_data"
        }
      ],
      "source": [
        "correlation_matrix = data.corr()\n",
        "plt.figure(figsize=(10, 8))\n",
        "sns.heatmap(correlation_matrix, annot=True, cmap='coolwarm')\n",
        "plt.title('Correlation Matrix')\n",
        "plt.show()"
      ]
    },
    {
      "cell_type": "markdown",
      "id": "f5b53128",
      "metadata": {
        "id": "f5b53128"
      },
      "source": [
        "None of the features have corrleation not greater than 0.5, this seems all the features are independent and none of the features are impacting the others."
      ]
    },
    {
      "cell_type": "markdown",
      "id": "d1a2bd45",
      "metadata": {
        "id": "d1a2bd45"
      },
      "source": [
        "# 3.Data Pre-processing and cleaning"
      ]
    },
    {
      "cell_type": "code",
      "execution_count": null,
      "id": "163ee9e2",
      "metadata": {
        "colab": {
          "base_uri": "https://localhost:8080/"
        },
        "id": "163ee9e2",
        "outputId": "746c5d8a-5dc7-4d7a-abe5-6a69e89823f5"
      },
      "outputs": [
        {
          "name": "stdout",
          "output_type": "stream",
          "text": [
            "\n",
            "Columns with missing value:\n",
            "id             False\n",
            "Airline        False\n",
            "Flight         False\n",
            "AirportFrom    False\n",
            "AirportTo      False\n",
            "DayOfWeek      False\n",
            "Time           False\n",
            "Length         False\n",
            "Delay          False\n",
            "dtype: bool\n"
          ]
        }
      ],
      "source": [
        "print('\\nColumns with missing value:')\n",
        "print(df.isnull().any())"
      ]
    },
    {
      "cell_type": "markdown",
      "id": "ddeb5315",
      "metadata": {
        "id": "ddeb5315"
      },
      "source": [
        "* There are no missing / null values in the dataset\n",
        "\n",
        "\n"
      ]
    },
    {
      "cell_type": "code",
      "execution_count": null,
      "id": "5445dad4",
      "metadata": {
        "colab": {
          "base_uri": "https://localhost:8080/",
          "height": 452
        },
        "id": "5445dad4",
        "outputId": "f8523693-d62c-4acf-ba0d-cb9a09d74330"
      },
      "outputs": [
        {
          "data": {
            "image/png": "[encoded data removed]",
            "text/plain": [
              "<Figure size 640x480 with 1 Axes>"
            ]
          },
          "metadata": {},
          "output_type": "display_data"
        }
      ],
      "source": [
        "# handling outliers\n",
        "# Box plot for Length\n",
        "plt.boxplot(df['Time'])\n",
        "plt.title('Box plot of Departure Time')\n",
        "plt.ylabel('Length (minutes)')\n",
        "plt.show()\n"
      ]
    },
    {
      "cell_type": "code",
      "execution_count": null,
      "id": "ee8546a6",
      "metadata": {
        "colab": {
          "base_uri": "https://localhost:8080/",
          "height": 452
        },
        "id": "ee8546a6",
        "outputId": "f0e44fe4-667d-48fb-c9ce-bd289d9ecf4a"
      },
      "outputs": [
        {
          "data": {
            "image/png": "[encoded data removed]",
            "text/plain": [
              "<Figure size 640x480 with 1 Axes>"
            ]
          },
          "metadata": {},
          "output_type": "display_data"
        }
      ],
      "source": [
        "\n",
        "# Box plot for Length\n",
        "plt.boxplot(df['Length'])\n",
        "plt.title('Box plot of Flight Length')\n",
        "plt.ylabel('Length (minutes)')\n",
        "plt.show()"
      ]
    },
    {
      "cell_type": "markdown",
      "id": "0234f35d",
      "metadata": {
        "id": "0234f35d"
      },
      "source": [
        "- Length and Time columns are considered for outlier detection because these columns are numerical. Other columns are categorical or boolean.\n",
        "\n",
        "- There are no outliers present in the departure time, there are lot of outliers detected in the flight lenths. We can replace the outliers with the median or do z-score calcuation with threshold 3."
      ]
    },
    {
      "cell_type": "code",
      "execution_count": null,
      "id": "857ca909",
      "metadata": {
        "colab": {
          "base_uri": "https://localhost:8080/"
        },
        "id": "857ca909",
        "outputId": "7bfa1473-06ce-428d-f3e1-aad2ce12eac0"
      },
      "outputs": [
        {
          "name": "stdout",
          "output_type": "stream",
          "text": [
            "            id Airline  Flight AirportFrom AirportTo  DayOfWeek  Time  Length  \\\n",
            "23          24      HA      17         LAS       HNL          3   100     380   \n",
            "24          25      US     122         ANC       PHX          3   113     327   \n",
            "233        234      AA     552         SFO       MIA          3   360     315   \n",
            "265        266      DL    1084         ANC       MSP          3   360     326   \n",
            "430        431      UA     226         SFO       BOS          3   360     342   \n",
            "...        ...     ...     ...         ...       ...        ...   ...     ...   \n",
            "539373  539374      B6     480         LAX       BOS          5  1435     320   \n",
            "539378  539379      CO     178         OGG       SNA          5  1439     326   \n",
            "539379  539380      FL     398         SEA       ATL          5  1439     305   \n",
            "539381  539382      UA      78         HNL       SFO          5  1439     313   \n",
            "539382  539383      US    1442         LAX       PHL          5  1439     301   \n",
            "\n",
            "        Delay  \n",
            "23          1  \n",
            "24          1  \n",
            "233         1  \n",
            "265         0  \n",
            "430         0  \n",
            "...       ...  \n",
            "539373      1  \n",
            "539378      0  \n",
            "539379      0  \n",
            "539381      1  \n",
            "539382      1  \n",
            "\n",
            "[25650 rows x 9 columns]\n"
          ]
        },
        {
          "data": {
            "text/plain": [
              "4.755433523118081"
            ]
          },
          "execution_count": 16,
          "metadata": {},
          "output_type": "execute_result"
        }
      ],
      "source": [
        "# IQR method for outlier detection\n",
        "Q1 = df['Length'].quantile(0.25)\n",
        "Q3 = df['Length'].quantile(0.75)\n",
        "IQR = Q3 - Q1\n",
        "\n",
        "# Find outliers based on IQR\n",
        "lower_bound = Q1 - (1.5 * IQR)\n",
        "upper_bound = Q3 + (1.5 * IQR)\n",
        "\n",
        "outliers = df[(df['Length'] < lower_bound) | (df['Length'] > upper_bound)]\n",
        "\n",
        "print(outliers)\n",
        "\n",
        "#findout the % of outliers in the dfset\n",
        "len(outliers) * 100/len(df)"
      ]
    },
    {
      "cell_type": "code",
      "execution_count": null,
      "id": "d522254d",
      "metadata": {
        "colab": {
          "base_uri": "https://localhost:8080/"
        },
        "id": "d522254d",
        "outputId": "daa7a944-e76c-498f-ef81-186f5740c08b"
      },
      "outputs": [
        {
          "name": "stdout",
          "output_type": "stream",
          "text": [
            "\n",
            " data frame after removing outliers:\n",
            "   id Airline  Flight AirportFrom AirportTo  DayOfWeek  Time  Length  Delay  \\\n",
            "0   1      CO     269         SFO       IAH          3    15     205      1   \n",
            "1   2      US    1558         PHX       CLT          3    15     222      1   \n",
            "2   3      AA    2400         LAX       DFW          3    20     165      1   \n",
            "3   4      AA    2466         SFO       DFW          3    20     195      1   \n",
            "4   5      AS     108         ANC       SEA          3    30     202      0   \n",
            "\n",
            "    Z-score  \n",
            "0  1.038236  \n",
            "1  1.280688  \n",
            "2  0.467761  \n",
            "3  0.895617  \n",
            "4  0.995450  \n"
          ]
        }
      ],
      "source": [
        "# Calculate Z-scores\n",
        "mean_length = df['Length'].mean()\n",
        "std_dev_length = df['Length'].std()\n",
        "df['Z-score'] = (df['Length'] - mean_length) / std_dev_length\n",
        "\n",
        "# Define threshold  +- 3 standard deviations\n",
        "threshold = 3\n",
        "\n",
        "# Find outliers based on Z-scores\n",
        "outliers = df[df['Z-score'].abs() > threshold]\n",
        "# Drop outliers from the original df (assuming you want to modify the df)\n",
        "df_filtered = df.drop(outliers.index)\n",
        "\n",
        "\n",
        "\n",
        "# Print the df without outliers (optional)\n",
        "print(\"\\n data frame after removing outliers:\")\n",
        "print(df_filtered.head())"
      ]
    },
    {
      "cell_type": "code",
      "execution_count": null,
      "id": "dcccf955",
      "metadata": {
        "id": "dcccf955",
        "outputId": "3a88e634-2328-446a-b02a-ef0ded8821da"
      },
      "outputs": [
        {
          "data": {
            "image/png": "[encoded data removed]",
            "text/plain": [
              "<Figure size 640x480 with 1 Axes>"
            ]
          },
          "metadata": {},
          "output_type": "display_data"
        },
        {
          "data": {
            "image/png": "[encoded data removed]",
            "text/plain": [
              "<Figure size 640x480 with 1 Axes>"
            ]
          },
          "metadata": {},
          "output_type": "display_data"
        }
      ],
      "source": [
        "# Histogram for Time\n",
        "plt.hist(df['Length'], bins=20, color='green')\n",
        "plt.title('Distribution of Length with Outliers')\n",
        "plt.xlabel('Time (minutes)')\n",
        "plt.ylabel('Frequency')\n",
        "plt.show()\n",
        "\n",
        "plt.hist(df_filtered['Length'], bins=20, color='green')\n",
        "plt.title('Distribution of Length after filtering outliers')\n",
        "plt.xlabel('Time (minutes)')\n",
        "plt.ylabel('Frequency')\n",
        "plt.show()\n"
      ]
    },
    {
      "cell_type": "code",
      "execution_count": null,
      "id": "nVhF3Jkt7RQ5",
      "metadata": {
        "colab": {
          "base_uri": "https://localhost:8080/"
        },
        "id": "nVhF3Jkt7RQ5",
        "outputId": "350435ed-2909-4d5b-b57f-b10d5282ebfa"
      },
      "outputs": [
        {
          "name": "stdout",
          "output_type": "stream",
          "text": [
            "Number of rows: 529473\n",
            "Number of columns:10\n"
          ]
        }
      ],
      "source": [
        "#After outlier removal\n",
        "print(f\"Number of rows: {df_filtered.shape[0]}\\nNumber of columns:{df_filtered.shape[1]}\")"
      ]
    },
    {
      "cell_type": "code",
      "execution_count": null,
      "id": "3ce8bffe",
      "metadata": {
        "id": "3ce8bffe"
      },
      "outputs": [],
      "source": [
        "\n",
        "encoder = LabelEncoder()\n",
        "\n",
        "# Apply label encoding to categorical columns\n",
        "categorical_columns = ['Airline', 'AirportFrom', 'AirportTo']\n",
        "for col in categorical_columns:\n",
        "    df_filtered[col + '_encoded'] = encoder.fit_transform(df_filtered[col])\n"
      ]
    },
    {
      "cell_type": "code",
      "execution_count": null,
      "id": "4H4mCCVXYjg4",
      "metadata": {
        "colab": {
          "base_uri": "https://localhost:8080/",
          "height": 423
        },
        "id": "4H4mCCVXYjg4",
        "outputId": "897432e3-d7c2-4453-a20c-653684c7120c"
      },
      "outputs": [
        {
          "data": {
            "text/html": [
              "<div>\n",
              "<style scoped>\n",
              "    .dataframe tbody tr th:only-of-type {\n",
              "        vertical-align: middle;\n",
              "    }\n",
              "\n",
              "    .dataframe tbody tr th {\n",
              "        vertical-align: top;\n",
              "    }\n",
              "\n",
              "    .dataframe thead th {\n",
              "        text-align: right;\n",
              "    }\n",
              "</style>\n",
              "<table border=\"1\" class=\"dataframe\">\n",
              "  <thead>\n",
              "    <tr style=\"text-align: right;\">\n",
              "      <th></th>\n",
              "      <th>id</th>\n",
              "      <th>Flight</th>\n",
              "      <th>DayOfWeek</th>\n",
              "      <th>Time</th>\n",
              "      <th>Length</th>\n",
              "      <th>Delay</th>\n",
              "      <th>Airline_encoded</th>\n",
              "      <th>AirportFrom_encoded</th>\n",
              "      <th>AirportTo_encoded</th>\n",
              "    </tr>\n",
              "  </thead>\n",
              "  <tbody>\n",
              "    <tr>\n",
              "      <th>0</th>\n",
              "      <td>1</td>\n",
              "      <td>269</td>\n",
              "      <td>3</td>\n",
              "      <td>15</td>\n",
              "      <td>205</td>\n",
              "      <td>1</td>\n",
              "      <td>4</td>\n",
              "      <td>252</td>\n",
              "      <td>134</td>\n",
              "    </tr>\n",
              "    <tr>\n",
              "      <th>1</th>\n",
              "      <td>2</td>\n",
              "      <td>1558</td>\n",
              "      <td>3</td>\n",
              "      <td>15</td>\n",
              "      <td>222</td>\n",
              "      <td>1</td>\n",
              "      <td>14</td>\n",
              "      <td>216</td>\n",
              "      <td>60</td>\n",
              "    </tr>\n",
              "    <tr>\n",
              "      <th>2</th>\n",
              "      <td>3</td>\n",
              "      <td>2400</td>\n",
              "      <td>3</td>\n",
              "      <td>20</td>\n",
              "      <td>165</td>\n",
              "      <td>1</td>\n",
              "      <td>1</td>\n",
              "      <td>153</td>\n",
              "      <td>80</td>\n",
              "    </tr>\n",
              "    <tr>\n",
              "      <th>3</th>\n",
              "      <td>4</td>\n",
              "      <td>2466</td>\n",
              "      <td>3</td>\n",
              "      <td>20</td>\n",
              "      <td>195</td>\n",
              "      <td>1</td>\n",
              "      <td>1</td>\n",
              "      <td>252</td>\n",
              "      <td>80</td>\n",
              "    </tr>\n",
              "    <tr>\n",
              "      <th>4</th>\n",
              "      <td>5</td>\n",
              "      <td>108</td>\n",
              "      <td>3</td>\n",
              "      <td>30</td>\n",
              "      <td>202</td>\n",
              "      <td>0</td>\n",
              "      <td>2</td>\n",
              "      <td>14</td>\n",
              "      <td>251</td>\n",
              "    </tr>\n",
              "    <tr>\n",
              "      <th>...</th>\n",
              "      <td>...</td>\n",
              "      <td>...</td>\n",
              "      <td>...</td>\n",
              "      <td>...</td>\n",
              "      <td>...</td>\n",
              "      <td>...</td>\n",
              "      <td>...</td>\n",
              "      <td>...</td>\n",
              "      <td>...</td>\n",
              "    </tr>\n",
              "    <tr>\n",
              "      <th>539360</th>\n",
              "      <td>539361</td>\n",
              "      <td>1761</td>\n",
              "      <td>5</td>\n",
              "      <td>1425</td>\n",
              "      <td>144</td>\n",
              "      <td>1</td>\n",
              "      <td>3</td>\n",
              "      <td>104</td>\n",
              "      <td>259</td>\n",
              "    </tr>\n",
              "    <tr>\n",
              "      <th>539361</th>\n",
              "      <td>539362</td>\n",
              "      <td>723</td>\n",
              "      <td>5</td>\n",
              "      <td>1425</td>\n",
              "      <td>216</td>\n",
              "      <td>1</td>\n",
              "      <td>3</td>\n",
              "      <td>147</td>\n",
              "      <td>37</td>\n",
              "    </tr>\n",
              "    <tr>\n",
              "      <th>539362</th>\n",
              "      <td>539363</td>\n",
              "      <td>749</td>\n",
              "      <td>5</td>\n",
              "      <td>1425</td>\n",
              "      <td>154</td>\n",
              "      <td>0</td>\n",
              "      <td>3</td>\n",
              "      <td>172</td>\n",
              "      <td>259</td>\n",
              "    </tr>\n",
              "    <tr>\n",
              "      <th>539363</th>\n",
              "      <td>539364</td>\n",
              "      <td>1002</td>\n",
              "      <td>5</td>\n",
              "      <td>1425</td>\n",
              "      <td>264</td>\n",
              "      <td>1</td>\n",
              "      <td>5</td>\n",
              "      <td>260</td>\n",
              "      <td>147</td>\n",
              "    </tr>\n",
              "    <tr>\n",
              "      <th>539364</th>\n",
              "      <td>539365</td>\n",
              "      <td>225</td>\n",
              "      <td>5</td>\n",
              "      <td>1425</td>\n",
              "      <td>208</td>\n",
              "      <td>0</td>\n",
              "      <td>8</td>\n",
              "      <td>152</td>\n",
              "      <td>183</td>\n",
              "    </tr>\n",
              "  </tbody>\n",
              "</table>\n",
              "<p>529458 rows × 9 columns</p>\n",
              "</div>"
            ],
            "text/plain": [
              "            id  Flight  DayOfWeek  Time  Length  Delay  Airline_encoded  \\\n",
              "0            1     269          3    15     205      1                4   \n",
              "1            2    1558          3    15     222      1               14   \n",
              "2            3    2400          3    20     165      1                1   \n",
              "3            4    2466          3    20     195      1                1   \n",
              "4            5     108          3    30     202      0                2   \n",
              "...        ...     ...        ...   ...     ...    ...              ...   \n",
              "539360  539361    1761          5  1425     144      1                3   \n",
              "539361  539362     723          5  1425     216      1                3   \n",
              "539362  539363     749          5  1425     154      0                3   \n",
              "539363  539364    1002          5  1425     264      1                5   \n",
              "539364  539365     225          5  1425     208      0                8   \n",
              "\n",
              "        AirportFrom_encoded  AirportTo_encoded  \n",
              "0                       252                134  \n",
              "1                       216                 60  \n",
              "2                       153                 80  \n",
              "3                       252                 80  \n",
              "4                        14                251  \n",
              "...                     ...                ...  \n",
              "539360                  104                259  \n",
              "539361                  147                 37  \n",
              "539362                  172                259  \n",
              "539363                  260                147  \n",
              "539364                  152                183  \n",
              "\n",
              "[529458 rows x 9 columns]"
            ]
          },
          "execution_count": 21,
          "metadata": {},
          "output_type": "execute_result"
        }
      ],
      "source": [
        "df_cleaned = df_filtered.dropna()\n",
        "df_cleaned.isna()\n",
        "df_cleaned = df_cleaned.drop(columns=['Airline','AirportFrom','AirportTo','Z-score'])\n",
        "df_cleaned.head(-15)"
      ]
    },
    {
      "cell_type": "markdown",
      "id": "loUiTnfC_VyL",
      "metadata": {
        "id": "loUiTnfC_VyL"
      },
      "source": [
        "Choosen Standardization because Algorithms that rely on distances or gradients between data points, such as K-Nearest Neighbors (KNN) and Gradient Descent-based methods (e.g., Linear Regression, Logistic Regression), often benefit from standardization. This is because standardization ensures that all features have a mean of 0 and a standard deviation of 1, which can prevent features with larger scales from dominating the learning process."
      ]
    },
    {
      "cell_type": "code",
      "execution_count": null,
      "id": "66ae5cc3",
      "metadata": {
        "id": "66ae5cc3"
      },
      "outputs": [],
      "source": [
        "from sklearn.preprocessing import StandardScaler, MinMaxScaler\n",
        "\n",
        "# Select numerical features for transformation\n",
        "numerical_features = ['Length','Time']\n",
        "\n",
        "\n",
        "scaler = StandardScaler()\n",
        "df_standardized = df_cleaned.copy()\n",
        "df_standardized[numerical_features] = scaler.fit_transform(df_standardized[numerical_features])\n"
      ]
    },
    {
      "cell_type": "code",
      "execution_count": null,
      "id": "684a35bc",
      "metadata": {
        "colab": {
          "base_uri": "https://localhost:8080/",
          "height": 206
        },
        "id": "684a35bc",
        "outputId": "56fbef9f-1ced-42d4-b47b-4562a82b7586"
      },
      "outputs": [
        {
          "data": {
            "text/html": [
              "<div>\n",
              "<style scoped>\n",
              "    .dataframe tbody tr th:only-of-type {\n",
              "        vertical-align: middle;\n",
              "    }\n",
              "\n",
              "    .dataframe tbody tr th {\n",
              "        vertical-align: top;\n",
              "    }\n",
              "\n",
              "    .dataframe thead th {\n",
              "        text-align: right;\n",
              "    }\n",
              "</style>\n",
              "<table border=\"1\" class=\"dataframe\">\n",
              "  <thead>\n",
              "    <tr style=\"text-align: right;\">\n",
              "      <th></th>\n",
              "      <th>id</th>\n",
              "      <th>Flight</th>\n",
              "      <th>DayOfWeek</th>\n",
              "      <th>Time</th>\n",
              "      <th>Length</th>\n",
              "      <th>Delay</th>\n",
              "      <th>Airline_encoded</th>\n",
              "      <th>AirportFrom_encoded</th>\n",
              "      <th>AirportTo_encoded</th>\n",
              "    </tr>\n",
              "  </thead>\n",
              "  <tbody>\n",
              "    <tr>\n",
              "      <th>0</th>\n",
              "      <td>1</td>\n",
              "      <td>269</td>\n",
              "      <td>3</td>\n",
              "      <td>-2.832991</td>\n",
              "      <td>1.254871</td>\n",
              "      <td>1</td>\n",
              "      <td>4</td>\n",
              "      <td>252</td>\n",
              "      <td>134</td>\n",
              "    </tr>\n",
              "    <tr>\n",
              "      <th>1</th>\n",
              "      <td>2</td>\n",
              "      <td>1558</td>\n",
              "      <td>3</td>\n",
              "      <td>-2.832991</td>\n",
              "      <td>1.530376</td>\n",
              "      <td>1</td>\n",
              "      <td>14</td>\n",
              "      <td>216</td>\n",
              "      <td>60</td>\n",
              "    </tr>\n",
              "    <tr>\n",
              "      <th>2</th>\n",
              "      <td>3</td>\n",
              "      <td>2400</td>\n",
              "      <td>3</td>\n",
              "      <td>-2.814997</td>\n",
              "      <td>0.606622</td>\n",
              "      <td>1</td>\n",
              "      <td>1</td>\n",
              "      <td>153</td>\n",
              "      <td>80</td>\n",
              "    </tr>\n",
              "    <tr>\n",
              "      <th>3</th>\n",
              "      <td>4</td>\n",
              "      <td>2466</td>\n",
              "      <td>3</td>\n",
              "      <td>-2.814997</td>\n",
              "      <td>1.092809</td>\n",
              "      <td>1</td>\n",
              "      <td>1</td>\n",
              "      <td>252</td>\n",
              "      <td>80</td>\n",
              "    </tr>\n",
              "    <tr>\n",
              "      <th>4</th>\n",
              "      <td>5</td>\n",
              "      <td>108</td>\n",
              "      <td>3</td>\n",
              "      <td>-2.779010</td>\n",
              "      <td>1.206252</td>\n",
              "      <td>0</td>\n",
              "      <td>2</td>\n",
              "      <td>14</td>\n",
              "      <td>251</td>\n",
              "    </tr>\n",
              "  </tbody>\n",
              "</table>\n",
              "</div>"
            ],
            "text/plain": [
              "   id  Flight  DayOfWeek      Time    Length  Delay  Airline_encoded  \\\n",
              "0   1     269          3 -2.832991  1.254871      1                4   \n",
              "1   2    1558          3 -2.832991  1.530376      1               14   \n",
              "2   3    2400          3 -2.814997  0.606622      1                1   \n",
              "3   4    2466          3 -2.814997  1.092809      1                1   \n",
              "4   5     108          3 -2.779010  1.206252      0                2   \n",
              "\n",
              "   AirportFrom_encoded  AirportTo_encoded  \n",
              "0                  252                134  \n",
              "1                  216                 60  \n",
              "2                  153                 80  \n",
              "3                  252                 80  \n",
              "4                   14                251  "
            ]
          },
          "execution_count": 23,
          "metadata": {},
          "output_type": "execute_result"
        }
      ],
      "source": [
        "df_standardized.head()"
      ]
    },
    {
      "cell_type": "markdown",
      "id": "0Hl3upw7aJtO",
      "metadata": {
        "id": "0Hl3upw7aJtO"
      },
      "source": [
        "columnco# Train test Split"
      ]
    },
    {
      "cell_type": "code",
      "execution_count": null,
      "id": "2885102b",
      "metadata": {
        "id": "2885102b"
      },
      "outputs": [],
      "source": [
        "X = df_standardized.drop(columns=['Delay'])\n",
        "y = df_standardized['Delay']\n",
        "X_train, X_test, y_train, y_test = train_test_split(X, y, test_size=0.2, random_state=42)\n"
      ]
    },
    {
      "cell_type": "markdown",
      "id": "67b77516",
      "metadata": {
        "id": "67b77516"
      },
      "source": [
        "# 4. Model Building"
      ]
    },
    {
      "cell_type": "code",
      "execution_count": null,
      "id": "90e22178",
      "metadata": {
        "colab": {
          "base_uri": "https://localhost:8080/"
        },
        "id": "90e22178",
        "outputId": "290d1d60-61c5-4a60-f901-994990f410a9"
      },
      "outputs": [
        {
          "name": "stdout",
          "output_type": "stream",
          "text": [
            "Logistic Regression:\n",
            "Accuracy: 0.5637376646678314\n",
            "Classification Report:\n",
            "               precision    recall  f1-score   support\n",
            "\n",
            "           0       0.59      0.74      0.65     58936\n",
            "           1       0.51      0.35      0.41     46959\n",
            "\n",
            "    accuracy                           0.56    105895\n",
            "   macro avg       0.55      0.54      0.53    105895\n",
            "weighted avg       0.55      0.56      0.55    105895\n",
            "\n",
            "\n",
            "Decision Tree:\n",
            "Accuracy: 0.6199159544832145\n",
            "Classification Report:\n",
            "               precision    recall  f1-score   support\n",
            "\n",
            "           0       0.66      0.66      0.66     58936\n",
            "           1       0.57      0.57      0.57     46959\n",
            "\n",
            "    accuracy                           0.62    105895\n",
            "   macro avg       0.62      0.62      0.62    105895\n",
            "weighted avg       0.62      0.62      0.62    105895\n",
            "\n"
          ]
        }
      ],
      "source": [
        "from sklearn.linear_model import LogisticRegression\n",
        "from sklearn.tree import DecisionTreeClassifier\n",
        "from sklearn.metrics import accuracy_score, classification_report\n",
        "\n",
        "\n",
        "# Logistic Regression model\n",
        "logreg_model = LogisticRegression(random_state=42)\n",
        "logreg_model.fit(X_train, y_train)\n",
        "\n",
        "# Decision Tree model\n",
        "dt_model = DecisionTreeClassifier(random_state=42)\n",
        "dt_model.fit(X_train, y_train)\n",
        "\n",
        "# Predictions\n",
        "y_pred_logreg = logreg_model.predict(X_test)\n",
        "y_pred_dt = dt_model.predict(X_test)\n",
        "\n",
        "# Model evaluation\n",
        "print(\"Logistic Regression:\")\n",
        "print(\"Accuracy:\", accuracy_score(y_test, y_pred_logreg))\n",
        "print(\"Classification Report:\\n\", classification_report(y_test, y_pred_logreg))\n",
        "\n",
        "print(\"\\nDecision Tree:\")\n",
        "print(\"Accuracy:\", accuracy_score(y_test, y_pred_dt))\n",
        "print(\"Classification Report:\\n\", classification_report(y_test, y_pred_dt))"
      ]
    },
    {
      "cell_type": "code",
      "execution_count": null,
      "id": "7762ac60",
      "metadata": {
        "colab": {
          "base_uri": "https://localhost:8080/",
          "height": 1000
        },
        "id": "7762ac60",
        "outputId": "c7df98de-6714-4a2c-cbdd-316bae38694b"
      },
      "outputs": [
        {
          "name": "stdout",
          "output_type": "stream",
          "text": [
            "Logistic Regression:\n",
            "Accuracy: 0.5637376646678314\n",
            "Classification Report:\n",
            "               precision    recall  f1-score   support\n",
            "\n",
            "           0       0.59      0.74      0.65     58936\n",
            "           1       0.51      0.35      0.41     46959\n",
            "\n",
            "    accuracy                           0.56    105895\n",
            "   macro avg       0.55      0.54      0.53    105895\n",
            "weighted avg       0.55      0.56      0.55    105895\n",
            "\n",
            "ROC-AUC Score: 0.5602305033887667\n"
          ]
        },
        {
          "data": {
            "image/png": "[encoded data removed]",
            "text/plain": [
              "<Figure size 640x480 with 1 Axes>"
            ]
          },
          "metadata": {},
          "output_type": "display_data"
        },
        {
          "data": {
            "image/png": "[encoded data removed]",
            "text/plain": [
              "<Figure size 640x480 with 1 Axes>"
            ]
          },
          "metadata": {},
          "output_type": "display_data"
        },
        {
          "name": "stdout",
          "output_type": "stream",
          "text": [
            "\n",
            "Decision Tree:\n",
            "Accuracy: 0.6199159544832145\n",
            "Classification Report:\n",
            "               precision    recall  f1-score   support\n",
            "\n",
            "           0       0.66      0.66      0.66     58936\n",
            "           1       0.57      0.57      0.57     46959\n",
            "\n",
            "    accuracy                           0.62    105895\n",
            "   macro avg       0.62      0.62      0.62    105895\n",
            "weighted avg       0.62      0.62      0.62    105895\n",
            "\n",
            "ROC-AUC Score: 0.6153035110342481\n"
          ]
        },
        {
          "data": {
            "image/png": "[encoded data removed]",
            "text/plain": [
              "<Figure size 640x480 with 1 Axes>"
            ]
          },
          "metadata": {},
          "output_type": "display_data"
        },
        {
          "data": {
            "image/png": "[encoded data removed]",
            "text/plain": [
              "<Figure size 640x480 with 1 Axes>"
            ]
          },
          "metadata": {},
          "output_type": "display_data"
        }
      ],
      "source": [
        "from sklearn.metrics import roc_auc_score, roc_curve, precision_recall_curve\n",
        "\n",
        "# Function to plot ROC curve\n",
        "def plot_roc_curve(y_true, y_scores):\n",
        "    fpr, tpr, thresholds = roc_curve(y_true, y_scores)\n",
        "    plt.plot(fpr, tpr, label='ROC Curve')\n",
        "    plt.plot([0, 1], [0, 1], 'k--', label='Random Guessing')\n",
        "    plt.xlabel('False Positive Rate')\n",
        "    plt.ylabel('True Positive Rate')\n",
        "    plt.title('Receiver Operating Characteristic (ROC) Curve')\n",
        "    plt.legend()\n",
        "    plt.show()\n",
        "\n",
        "# Function to plot Precision-Recall curve\n",
        "def plot_precision_recall_curve(y_true, y_scores):\n",
        "    precision, recall, thresholds = precision_recall_curve(y_true, y_scores)\n",
        "    plt.plot(recall, precision, label='Precision-Recall Curve')\n",
        "    plt.xlabel('Recall')\n",
        "    plt.ylabel('Precision')\n",
        "    plt.title('Precision-Recall Curve')\n",
        "    plt.legend()\n",
        "    plt.show()\n",
        "\n",
        "# Logistic Regression model evaluation\n",
        "print(\"Logistic Regression:\")\n",
        "print(\"Accuracy:\", accuracy_score(y_test, y_pred_logreg))\n",
        "print(\"Classification Report:\\n\", classification_report(y_test, y_pred_logreg))\n",
        "# Calculate probabilities for positive class\n",
        "y_prob_logreg = logreg_model.predict_proba(X_test)[:, 1]\n",
        "\n",
        "# Calculate ROC-AUC score\n",
        "roc_auc_logreg = roc_auc_score(y_test, y_prob_logreg)\n",
        "print(\"ROC-AUC Score:\", roc_auc_logreg)\n",
        "\n",
        "# Plot ROC curve\n",
        "plot_roc_curve(y_test, y_prob_logreg)\n",
        "\n",
        "# Plot Precision-Recall curve\n",
        "plot_precision_recall_curve(y_test, y_prob_logreg)\n",
        "\n",
        "# Decision Tree model evaluation\n",
        "print(\"\\nDecision Tree:\")\n",
        "print(\"Accuracy:\", accuracy_score(y_test, y_pred_dt))\n",
        "print(\"Classification Report:\\n\", classification_report(y_test, y_pred_dt))\n",
        "\n",
        "# Calculate probabilities for positive class\n",
        "y_prob_dt = dt_model.predict_proba(X_test)[:, 1]\n",
        "\n",
        "# Calculate ROC-AUC score\n",
        "roc_auc_dt = roc_auc_score(y_test, y_prob_dt)\n",
        "print(\"ROC-AUC Score:\", roc_auc_dt)\n",
        "\n",
        "# Plot ROC curve\n",
        "plot_roc_curve(y_test, y_prob_dt)\n",
        "\n",
        "# Plot Precision-Recall curve\n",
        "plot_precision_recall_curve(y_test, y_prob_dt)"
      ]
    },
    {
      "cell_type": "code",
      "execution_count": null,
      "id": "cf105fb1",
      "metadata": {
        "id": "cf105fb1"
      },
      "outputs": [],
      "source": [
        "# Initialize models\n",
        "knn = KNeighborsClassifier()\n",
        "svm = SVC()\n",
        "nb = GaussianNB()\n",
        "rf = RandomForestClassifier()\n",
        "adaboost = AdaBoostClassifier()"
      ]
    },
    {
      "cell_type": "markdown",
      "id": "lH1rfy1cbivJ",
      "metadata": {
        "id": "lH1rfy1cbivJ"
      },
      "source": [
        "Evaluation Metrics"
      ]
    },
    {
      "cell_type": "code",
      "execution_count": null,
      "id": "HDi0cfZ9bsVE",
      "metadata": {
        "id": "HDi0cfZ9bsVE"
      },
      "outputs": [],
      "source": [
        "def evaluate_model(y_true, y_pred):\n",
        "    precision = precision_score(y_true, y_pred)\n",
        "    recall = recall_score(y_true, y_pred)\n",
        "    f1 = f1_score(y_true, y_pred)\n",
        "    accuracy = accuracy_score(y_true, y_pred)\n",
        "    misclassification_rate = 1 - accuracy\n",
        "    return precision, recall, f1, accuracy, misclassification_rate"
      ]
    },
    {
      "cell_type": "markdown",
      "id": "pk6WjCjPaVe4",
      "metadata": {
        "id": "pk6WjCjPaVe4"
      },
      "source": [
        "# KNN"
      ]
    },
    {
      "cell_type": "code",
      "execution_count": null,
      "id": "c1520395",
      "metadata": {
        "id": "c1520395"
      },
      "outputs": [],
      "source": [
        "knn.fit(X_train, y_train)\n",
        "knn_pred = knn.predict(X_test)"
      ]
    },
    {
      "cell_type": "code",
      "execution_count": null,
      "id": "PXLXaRp8cK97",
      "metadata": {
        "id": "PXLXaRp8cK97"
      },
      "outputs": [],
      "source": [
        "knn_metrics = evaluate_model(y_test, knn_pred)"
      ]
    },
    {
      "cell_type": "code",
      "execution_count": null,
      "id": "Vlyb02oicSsA",
      "metadata": {
        "colab": {
          "base_uri": "https://localhost:8080/"
        },
        "id": "Vlyb02oicSsA",
        "outputId": "c35646c6-caa4-4405-83ac-2095fe9d1722"
      },
      "outputs": [
        {
          "name": "stdout",
          "output_type": "stream",
          "text": [
            "K-Nearest Neighbors (KNN) Metrics:\n",
            "Precision: 0.5355368479160917\n",
            "Recall: 0.4958154986264614\n",
            "F-score: 0.5149112622325427\n",
            "Accuracy: 0.5857311487794513\n",
            "Misclassification Rate: 0.4142688512205487\n",
            "\n",
            "\n"
          ]
        }
      ],
      "source": [
        "print(\"K-Nearest Neighbors (KNN) Metrics:\")\n",
        "print(\"Precision:\", knn_metrics[0])\n",
        "print(\"Recall:\", knn_metrics[1])\n",
        "print(\"F-score:\", knn_metrics[2])\n",
        "print(\"Accuracy:\", knn_metrics[3])\n",
        "print(\"Misclassification Rate:\", knn_metrics[4])\n",
        "print(\"\\n\")"
      ]
    },
    {
      "cell_type": "markdown",
      "id": "BNy5kYRjcf0K",
      "metadata": {
        "id": "BNy5kYRjcf0K"
      },
      "source": [
        "HyperParameter Tuning"
      ]
    },
    {
      "cell_type": "code",
      "execution_count": null,
      "id": "KzfdiR6-ccye",
      "metadata": {
        "id": "KzfdiR6-ccye"
      },
      "outputs": [],
      "source": [
        "param_grid_knn = {\n",
        "    'n_neighbors': [3, 5, 7],\n",
        "    'weights': ['uniform', 'distance'],\n",
        "    'metric': ['euclidean', 'manhattan']\n",
        "}"
      ]
    },
    {
      "cell_type": "code",
      "execution_count": null,
      "id": "eHu_mMU_cYV8",
      "metadata": {
        "id": "eHu_mMU_cYV8"
      },
      "outputs": [],
      "source": [
        "grid_search_knn = GridSearchCV(KNeighborsClassifier(), param_grid_knn, cv=5, scoring='accuracy')"
      ]
    },
    {
      "cell_type": "code",
      "execution_count": null,
      "id": "OADKbc-YcrL9",
      "metadata": {
        "colab": {
          "base_uri": "https://localhost:8080/",
          "height": 116
        },
        "id": "OADKbc-YcrL9",
        "outputId": "2f582704-bf9d-4ce6-aafc-cf5478ee8197"
      },
      "outputs": [
        {
          "data": {
            "text/html": [
              "<style>#sk-container-id-1 {color: black;background-color: white;}#sk-container-id-1 pre{padding: 0;}#sk-container-id-1 div.sk-toggleable {background-color: white;}#sk-container-id-1 label.sk-toggleable__label {cursor: pointer;display: block;width: 100%;margin-bottom: 0;padding: 0.3em;box-sizing: border-box;text-align: center;}#sk-container-id-1 label.sk-toggleable__label-arrow:before {content: \"▸\";float: left;margin-right: 0.25em;color: #696969;}#sk-container-id-1 label.sk-toggleable__label-arrow:hover:before {color: black;}#sk-container-id-1 div.sk-estimator:hover label.sk-toggleable__label-arrow:before {color: black;}#sk-container-id-1 div.sk-toggleable__content {max-height: 0;max-width: 0;overflow: hidden;text-align: left;background-color: #f0f8ff;}#sk-container-id-1 div.sk-toggleable__content pre {margin: 0.2em;color: black;border-radius: 0.25em;background-color: #f0f8ff;}#sk-container-id-1 input.sk-toggleable__control:checked~div.sk-toggleable__content {max-height: 200px;max-width: 100%;overflow: auto;}#sk-container-id-1 input.sk-toggleable__control:checked~label.sk-toggleable__label-arrow:before {content: \"▾\";}#sk-container-id-1 div.sk-estimator input.sk-toggleable__control:checked~label.sk-toggleable__label {background-color: #d4ebff;}#sk-container-id-1 div.sk-label input.sk-toggleable__control:checked~label.sk-toggleable__label {background-color: #d4ebff;}#sk-container-id-1 input.sk-hidden--visually {border: 0;clip: rect(1px 1px 1px 1px);clip: rect(1px, 1px, 1px, 1px);height: 1px;margin: -1px;overflow: hidden;padding: 0;position: absolute;width: 1px;}#sk-container-id-1 div.sk-estimator {font-family: monospace;background-color: #f0f8ff;border: 1px dotted black;border-radius: 0.25em;box-sizing: border-box;margin-bottom: 0.5em;}#sk-container-id-1 div.sk-estimator:hover {background-color: #d4ebff;}#sk-container-id-1 div.sk-parallel-item::after {content: \"\";width: 100%;border-bottom: 1px solid gray;flex-grow: 1;}#sk-container-id-1 div.sk-label:hover label.sk-toggleable__label {background-color: #d4ebff;}#sk-container-id-1 div.sk-serial::before {content: \"\";position: absolute;border-left: 1px solid gray;box-sizing: border-box;top: 0;bottom: 0;left: 50%;z-index: 0;}#sk-container-id-1 div.sk-serial {display: flex;flex-direction: column;align-items: center;background-color: white;padding-right: 0.2em;padding-left: 0.2em;position: relative;}#sk-container-id-1 div.sk-item {position: relative;z-index: 1;}#sk-container-id-1 div.sk-parallel {display: flex;align-items: stretch;justify-content: center;background-color: white;position: relative;}#sk-container-id-1 div.sk-item::before, #sk-container-id-1 div.sk-parallel-item::before {content: \"\";position: absolute;border-left: 1px solid gray;box-sizing: border-box;top: 0;bottom: 0;left: 50%;z-index: -1;}#sk-container-id-1 div.sk-parallel-item {display: flex;flex-direction: column;z-index: 1;position: relative;background-color: white;}#sk-container-id-1 div.sk-parallel-item:first-child::after {align-self: flex-end;width: 50%;}#sk-container-id-1 div.sk-parallel-item:last-child::after {align-self: flex-start;width: 50%;}#sk-container-id-1 div.sk-parallel-item:only-child::after {width: 0;}#sk-container-id-1 div.sk-dashed-wrapped {border: 1px dashed gray;margin: 0 0.4em 0.5em 0.4em;box-sizing: border-box;padding-bottom: 0.4em;background-color: white;}#sk-container-id-1 div.sk-label label {font-family: monospace;font-weight: bold;display: inline-block;line-height: 1.2em;}#sk-container-id-1 div.sk-label-container {text-align: center;}#sk-container-id-1 div.sk-container {/* jupyter's `normalize.less` sets `[hidden] { display: none; }` but bootstrap.min.css set `[hidden] { display: none !important; }` so we also need the `!important` here to be able to override the default hidden behavior on the sphinx rendered scikit-learn.org. See: https://github.com/scikit-learn/scikit-learn/issues/21755 */display: inline-block !important;position: relative;}#sk-container-id-1 div.sk-text-repr-fallback {display: none;}</style><div id=\"sk-container-id-1\" class=\"sk-top-container\"><div class=\"sk-text-repr-fallback\"><pre>GridSearchCV(cv=5, estimator=KNeighborsClassifier(),\n",
              "             param_grid={&#x27;metric&#x27;: [&#x27;euclidean&#x27;, &#x27;manhattan&#x27;],\n",
              "                         &#x27;n_neighbors&#x27;: [3, 5, 7],\n",
              "                         &#x27;weights&#x27;: [&#x27;uniform&#x27;, &#x27;distance&#x27;]},\n",
              "             scoring=&#x27;accuracy&#x27;)</pre><b>In a Jupyter environment, please rerun this cell to show the HTML representation or trust the notebook. <br />On GitHub, the HTML representation is unable to render, please try loading this page with nbviewer.org.</b></div><div class=\"sk-container\" hidden><div class=\"sk-item sk-dashed-wrapped\"><div class=\"sk-label-container\"><div class=\"sk-label sk-toggleable\"><input class=\"sk-toggleable__control sk-hidden--visually\" id=\"sk-estimator-id-1\" type=\"checkbox\" ><label for=\"sk-estimator-id-1\" class=\"sk-toggleable__label sk-toggleable__label-arrow\">GridSearchCV</label><div class=\"sk-toggleable__content\"><pre>GridSearchCV(cv=5, estimator=KNeighborsClassifier(),\n",
              "             param_grid={&#x27;metric&#x27;: [&#x27;euclidean&#x27;, &#x27;manhattan&#x27;],\n",
              "                         &#x27;n_neighbors&#x27;: [3, 5, 7],\n",
              "                         &#x27;weights&#x27;: [&#x27;uniform&#x27;, &#x27;distance&#x27;]},\n",
              "             scoring=&#x27;accuracy&#x27;)</pre></div></div></div><div class=\"sk-parallel\"><div class=\"sk-parallel-item\"><div class=\"sk-item\"><div class=\"sk-label-container\"><div class=\"sk-label sk-toggleable\"><input class=\"sk-toggleable__control sk-hidden--visually\" id=\"sk-estimator-id-2\" type=\"checkbox\" ><label for=\"sk-estimator-id-2\" class=\"sk-toggleable__label sk-toggleable__label-arrow\">estimator: KNeighborsClassifier</label><div class=\"sk-toggleable__content\"><pre>KNeighborsClassifier()</pre></div></div></div><div class=\"sk-serial\"><div class=\"sk-item\"><div class=\"sk-estimator sk-toggleable\"><input class=\"sk-toggleable__control sk-hidden--visually\" id=\"sk-estimator-id-3\" type=\"checkbox\" ><label for=\"sk-estimator-id-3\" class=\"sk-toggleable__label sk-toggleable__label-arrow\">KNeighborsClassifier</label><div class=\"sk-toggleable__content\"><pre>KNeighborsClassifier()</pre></div></div></div></div></div></div></div></div></div></div>"
            ],
            "text/plain": [
              "GridSearchCV(cv=5, estimator=KNeighborsClassifier(),\n",
              "             param_grid={'metric': ['euclidean', 'manhattan'],\n",
              "                         'n_neighbors': [3, 5, 7],\n",
              "                         'weights': ['uniform', 'distance']},\n",
              "             scoring='accuracy')"
            ]
          },
          "execution_count": 51,
          "metadata": {},
          "output_type": "execute_result"
        }
      ],
      "source": [
        "grid_search_knn.fit(X_train, y_train)"
      ]
    },
    {
      "cell_type": "code",
      "execution_count": null,
      "id": "W9bpQnimcuMJ",
      "metadata": {
        "id": "W9bpQnimcuMJ"
      },
      "outputs": [],
      "source": [
        "best_params_knn = grid_search_knn.best_params_\n",
        "best_score_knn = grid_search_knn.best_score_"
      ]
    },
    {
      "cell_type": "code",
      "execution_count": null,
      "id": "z7Yb6PRxc9IJ",
      "metadata": {
        "colab": {
          "base_uri": "https://localhost:8080/"
        },
        "id": "z7Yb6PRxc9IJ",
        "outputId": "dd33514d-64d1-4c40-a694-a2eca29ea88f"
      },
      "outputs": [
        {
          "name": "stdout",
          "output_type": "stream",
          "text": [
            "K-Nearest Neighbors (KNN) - Best Parameters: {'metric': 'manhattan', 'n_neighbors': 7, 'weights': 'uniform'}\n",
            "K-Nearest Neighbors (KNN) - Best Score: 0.596180631582863\n"
          ]
        }
      ],
      "source": [
        "print(\"K-Nearest Neighbors (KNN) - Best Parameters:\", best_params_knn)\n",
        "print(\"K-Nearest Neighbors (KNN) - Best Score:\", best_score_knn)"
      ]
    },
    {
      "cell_type": "code",
      "execution_count": null,
      "id": "x2pFPobGdKLw",
      "metadata": {
        "id": "x2pFPobGdKLw"
      },
      "outputs": [],
      "source": [
        "knn_tuned_pred = grid_search_knn.predict(X_test)"
      ]
    },
    {
      "cell_type": "code",
      "execution_count": null,
      "id": "Iy54OquPdMDj",
      "metadata": {
        "id": "Iy54OquPdMDj"
      },
      "outputs": [],
      "source": [
        "knn_tuned_metrics = evaluate_model(y_test, knn_tuned_pred)"
      ]
    },
    {
      "cell_type": "code",
      "execution_count": null,
      "id": "lSiqqd4CdATz",
      "metadata": {
        "colab": {
          "base_uri": "https://localhost:8080/"
        },
        "id": "lSiqqd4CdATz",
        "outputId": "ac24e7be-af68-4385-c854-60613f0b8d32"
      },
      "outputs": [
        {
          "name": "stdout",
          "output_type": "stream",
          "text": [
            "K-Nearest Neighbors (KNN) Metrics After Hyperparameter Tuning:\n",
            "Precision: 0.5522237354999295\n",
            "Recall: 0.5007985689644158\n",
            "F-score: 0.5252554581495338\n",
            "Accuracy: 0.598555172576609\n",
            "Misclassification Rate: 0.40144482742339105\n"
          ]
        }
      ],
      "source": [
        "print(\"K-Nearest Neighbors (KNN) Metrics After Hyperparameter Tuning:\")\n",
        "print(\"Precision:\", knn_tuned_metrics[0])\n",
        "print(\"Recall:\", knn_tuned_metrics[1])\n",
        "print(\"F-score:\", knn_tuned_metrics[2])\n",
        "print(\"Accuracy:\", knn_tuned_metrics[3])\n",
        "print(\"Misclassification Rate:\", knn_tuned_metrics[4])"
      ]
    },
    {
      "cell_type": "code",
      "execution_count": null,
      "id": "P3wIyM7of-AX",
      "metadata": {
        "colab": {
          "base_uri": "https://localhost:8080/"
        },
        "id": "P3wIyM7of-AX",
        "outputId": "683fb434-997e-4709-af33-631184e216c2"
      },
      "outputs": [
        {
          "name": "stdout",
          "output_type": "stream",
          "text": [
            "Classification Report for KNN:\n",
            "              precision    recall  f1-score   support\n",
            "\n",
            "           0       0.63      0.68      0.65     58936\n",
            "           1       0.55      0.50      0.53     46959\n",
            "\n",
            "    accuracy                           0.60    105895\n",
            "   macro avg       0.59      0.59      0.59    105895\n",
            "weighted avg       0.60      0.60      0.60    105895\n",
            "\n"
          ]
        }
      ],
      "source": [
        "print(\"Classification Report for KNN:\")\n",
        "print(classification_report(y_test, knn_tuned_pred))"
      ]
    },
    {
      "cell_type": "markdown",
      "id": "sog1nzKaabbY",
      "metadata": {
        "id": "sog1nzKaabbY"
      },
      "source": [
        "# Naive Bayesian"
      ]
    },
    {
      "cell_type": "code",
      "execution_count": null,
      "id": "ecf61e25",
      "metadata": {
        "id": "ecf61e25"
      },
      "outputs": [],
      "source": [
        "nb.fit(X_train, y_train)\n",
        "nb_pred = nb.predict(X_test)"
      ]
    },
    {
      "cell_type": "code",
      "execution_count": null,
      "id": "nTrIOUHBejiP",
      "metadata": {
        "id": "nTrIOUHBejiP"
      },
      "outputs": [],
      "source": [
        "nb_metrics = evaluate_model(y_test, nb_pred)"
      ]
    },
    {
      "cell_type": "code",
      "execution_count": null,
      "id": "GK_4FoMCejkT",
      "metadata": {
        "colab": {
          "base_uri": "https://localhost:8080/"
        },
        "id": "GK_4FoMCejkT",
        "outputId": "d5c40e1e-8458-4130-e52c-9ee181ce301c"
      },
      "outputs": [
        {
          "name": "stdout",
          "output_type": "stream",
          "text": [
            "Naive Bayes Metrics:\n",
            "Precision: 0.5461797898560125\n",
            "Recall: 0.3586532932984092\n",
            "F-score: 0.4329841249437624\n",
            "Accuracy: 0.5834458661882053\n",
            "Misclassification Rate: 0.41655413381179474\n"
          ]
        }
      ],
      "source": [
        "print(\"Naive Bayes Metrics:\")\n",
        "print(\"Precision:\", nb_metrics[0])\n",
        "print(\"Recall:\", nb_metrics[1])\n",
        "print(\"F-score:\", nb_metrics[2])\n",
        "print(\"Accuracy:\", nb_metrics[3])\n",
        "print(\"Misclassification Rate:\", nb_metrics[4])"
      ]
    },
    {
      "cell_type": "code",
      "execution_count": null,
      "id": "I3ucqetVejma",
      "metadata": {
        "id": "I3ucqetVejma"
      },
      "outputs": [],
      "source": [
        "param_grid_nb = {}"
      ]
    },
    {
      "cell_type": "code",
      "execution_count": null,
      "id": "TSnHWvZHejov",
      "metadata": {
        "id": "TSnHWvZHejov"
      },
      "outputs": [],
      "source": [
        "grid_search_nb = GridSearchCV(GaussianNB(), param_grid_nb, cv=5, scoring='accuracy')"
      ]
    },
    {
      "cell_type": "code",
      "execution_count": null,
      "id": "yzNmlVn0ejrD",
      "metadata": {
        "colab": {
          "base_uri": "https://localhost:8080/",
          "height": 116
        },
        "id": "yzNmlVn0ejrD",
        "outputId": "0d8f350a-0016-4751-9968-fc31759a4474"
      },
      "outputs": [
        {
          "data": {
            "text/html": [
              "<style>#sk-container-id-2 {color: black;background-color: white;}#sk-container-id-2 pre{padding: 0;}#sk-container-id-2 div.sk-toggleable {background-color: white;}#sk-container-id-2 label.sk-toggleable__label {cursor: pointer;display: block;width: 100%;margin-bottom: 0;padding: 0.3em;box-sizing: border-box;text-align: center;}#sk-container-id-2 label.sk-toggleable__label-arrow:before {content: \"▸\";float: left;margin-right: 0.25em;color: #696969;}#sk-container-id-2 label.sk-toggleable__label-arrow:hover:before {color: black;}#sk-container-id-2 div.sk-estimator:hover label.sk-toggleable__label-arrow:before {color: black;}#sk-container-id-2 div.sk-toggleable__content {max-height: 0;max-width: 0;overflow: hidden;text-align: left;background-color: #f0f8ff;}#sk-container-id-2 div.sk-toggleable__content pre {margin: 0.2em;color: black;border-radius: 0.25em;background-color: #f0f8ff;}#sk-container-id-2 input.sk-toggleable__control:checked~div.sk-toggleable__content {max-height: 200px;max-width: 100%;overflow: auto;}#sk-container-id-2 input.sk-toggleable__control:checked~label.sk-toggleable__label-arrow:before {content: \"▾\";}#sk-container-id-2 div.sk-estimator input.sk-toggleable__control:checked~label.sk-toggleable__label {background-color: #d4ebff;}#sk-container-id-2 div.sk-label input.sk-toggleable__control:checked~label.sk-toggleable__label {background-color: #d4ebff;}#sk-container-id-2 input.sk-hidden--visually {border: 0;clip: rect(1px 1px 1px 1px);clip: rect(1px, 1px, 1px, 1px);height: 1px;margin: -1px;overflow: hidden;padding: 0;position: absolute;width: 1px;}#sk-container-id-2 div.sk-estimator {font-family: monospace;background-color: #f0f8ff;border: 1px dotted black;border-radius: 0.25em;box-sizing: border-box;margin-bottom: 0.5em;}#sk-container-id-2 div.sk-estimator:hover {background-color: #d4ebff;}#sk-container-id-2 div.sk-parallel-item::after {content: \"\";width: 100%;border-bottom: 1px solid gray;flex-grow: 1;}#sk-container-id-2 div.sk-label:hover label.sk-toggleable__label {background-color: #d4ebff;}#sk-container-id-2 div.sk-serial::before {content: \"\";position: absolute;border-left: 1px solid gray;box-sizing: border-box;top: 0;bottom: 0;left: 50%;z-index: 0;}#sk-container-id-2 div.sk-serial {display: flex;flex-direction: column;align-items: center;background-color: white;padding-right: 0.2em;padding-left: 0.2em;position: relative;}#sk-container-id-2 div.sk-item {position: relative;z-index: 1;}#sk-container-id-2 div.sk-parallel {display: flex;align-items: stretch;justify-content: center;background-color: white;position: relative;}#sk-container-id-2 div.sk-item::before, #sk-container-id-2 div.sk-parallel-item::before {content: \"\";position: absolute;border-left: 1px solid gray;box-sizing: border-box;top: 0;bottom: 0;left: 50%;z-index: -1;}#sk-container-id-2 div.sk-parallel-item {display: flex;flex-direction: column;z-index: 1;position: relative;background-color: white;}#sk-container-id-2 div.sk-parallel-item:first-child::after {align-self: flex-end;width: 50%;}#sk-container-id-2 div.sk-parallel-item:last-child::after {align-self: flex-start;width: 50%;}#sk-container-id-2 div.sk-parallel-item:only-child::after {width: 0;}#sk-container-id-2 div.sk-dashed-wrapped {border: 1px dashed gray;margin: 0 0.4em 0.5em 0.4em;box-sizing: border-box;padding-bottom: 0.4em;background-color: white;}#sk-container-id-2 div.sk-label label {font-family: monospace;font-weight: bold;display: inline-block;line-height: 1.2em;}#sk-container-id-2 div.sk-label-container {text-align: center;}#sk-container-id-2 div.sk-container {/* jupyter's `normalize.less` sets `[hidden] { display: none; }` but bootstrap.min.css set `[hidden] { display: none !important; }` so we also need the `!important` here to be able to override the default hidden behavior on the sphinx rendered scikit-learn.org. See: https://github.com/scikit-learn/scikit-learn/issues/21755 */display: inline-block !important;position: relative;}#sk-container-id-2 div.sk-text-repr-fallback {display: none;}</style><div id=\"sk-container-id-2\" class=\"sk-top-container\"><div class=\"sk-text-repr-fallback\"><pre>GridSearchCV(cv=5, estimator=GaussianNB(), param_grid={}, scoring=&#x27;accuracy&#x27;)</pre><b>In a Jupyter environment, please rerun this cell to show the HTML representation or trust the notebook. <br />On GitHub, the HTML representation is unable to render, please try loading this page with nbviewer.org.</b></div><div class=\"sk-container\" hidden><div class=\"sk-item sk-dashed-wrapped\"><div class=\"sk-label-container\"><div class=\"sk-label sk-toggleable\"><input class=\"sk-toggleable__control sk-hidden--visually\" id=\"sk-estimator-id-4\" type=\"checkbox\" ><label for=\"sk-estimator-id-4\" class=\"sk-toggleable__label sk-toggleable__label-arrow\">GridSearchCV</label><div class=\"sk-toggleable__content\"><pre>GridSearchCV(cv=5, estimator=GaussianNB(), param_grid={}, scoring=&#x27;accuracy&#x27;)</pre></div></div></div><div class=\"sk-parallel\"><div class=\"sk-parallel-item\"><div class=\"sk-item\"><div class=\"sk-label-container\"><div class=\"sk-label sk-toggleable\"><input class=\"sk-toggleable__control sk-hidden--visually\" id=\"sk-estimator-id-5\" type=\"checkbox\" ><label for=\"sk-estimator-id-5\" class=\"sk-toggleable__label sk-toggleable__label-arrow\">estimator: GaussianNB</label><div class=\"sk-toggleable__content\"><pre>GaussianNB()</pre></div></div></div><div class=\"sk-serial\"><div class=\"sk-item\"><div class=\"sk-estimator sk-toggleable\"><input class=\"sk-toggleable__control sk-hidden--visually\" id=\"sk-estimator-id-6\" type=\"checkbox\" ><label for=\"sk-estimator-id-6\" class=\"sk-toggleable__label sk-toggleable__label-arrow\">GaussianNB</label><div class=\"sk-toggleable__content\"><pre>GaussianNB()</pre></div></div></div></div></div></div></div></div></div></div>"
            ],
            "text/plain": [
              "GridSearchCV(cv=5, estimator=GaussianNB(), param_grid={}, scoring='accuracy')"
            ]
          },
          "execution_count": 65,
          "metadata": {},
          "output_type": "execute_result"
        }
      ],
      "source": [
        "grid_search_nb.fit(X_train, y_train)"
      ]
    },
    {
      "cell_type": "code",
      "execution_count": null,
      "id": "PwERkvSSejtO",
      "metadata": {
        "id": "PwERkvSSejtO"
      },
      "outputs": [],
      "source": [
        "best_params_nb = grid_search_nb.best_params_\n",
        "best_score_nb = grid_search_nb.best_score_"
      ]
    },
    {
      "cell_type": "code",
      "execution_count": null,
      "id": "vZ7If6JBejvn",
      "metadata": {
        "id": "vZ7If6JBejvn"
      },
      "outputs": [],
      "source": [
        "nb_tuned_pred = grid_search_nb.predict(X_test)\n",
        "nb_tuned_metrics = evaluate_model(y_test, nb_tuned_pred)"
      ]
    },
    {
      "cell_type": "code",
      "execution_count": null,
      "id": "v0BIUjRXejx7",
      "metadata": {
        "colab": {
          "base_uri": "https://localhost:8080/"
        },
        "id": "v0BIUjRXejx7",
        "outputId": "3f887ce4-6035-404a-a840-cc17db8a5145"
      },
      "outputs": [
        {
          "name": "stdout",
          "output_type": "stream",
          "text": [
            "Naive Bayes Metrics After Hyperparameter Tuning:\n",
            "Precision: 0.5461797898560125\n",
            "Recall: 0.3586532932984092\n",
            "F-score: 0.4329841249437624\n",
            "Accuracy: 0.5834458661882053\n",
            "Misclassification Rate: 0.41655413381179474\n"
          ]
        }
      ],
      "source": [
        "print(\"Naive Bayes Metrics After Hyperparameter Tuning:\")\n",
        "print(\"Precision:\", nb_tuned_metrics[0])\n",
        "print(\"Recall:\", nb_tuned_metrics[1])\n",
        "print(\"F-score:\", nb_tuned_metrics[2])\n",
        "print(\"Accuracy:\", nb_tuned_metrics[3])\n",
        "print(\"Misclassification Rate:\", nb_tuned_metrics[4])"
      ]
    },
    {
      "cell_type": "code",
      "execution_count": null,
      "id": "9EyKkaNtej0F",
      "metadata": {
        "colab": {
          "base_uri": "https://localhost:8080/"
        },
        "id": "9EyKkaNtej0F",
        "outputId": "34793e46-c170-49f9-ada3-e273b7e0a910"
      },
      "outputs": [
        {
          "name": "stdout",
          "output_type": "stream",
          "text": [
            "Classification Report for Naive Bayes:\n",
            "              precision    recall  f1-score   support\n",
            "\n",
            "           0       0.60      0.76      0.67     58936\n",
            "           1       0.55      0.36      0.43     46959\n",
            "\n",
            "    accuracy                           0.58    105895\n",
            "   macro avg       0.57      0.56      0.55    105895\n",
            "weighted avg       0.58      0.58      0.57    105895\n",
            "\n"
          ]
        }
      ],
      "source": [
        "print(\"Classification Report for Naive Bayes:\")\n",
        "print(classification_report(y_test, nb_tuned_pred))"
      ]
    },
    {
      "cell_type": "markdown",
      "id": "vjig_KfmapxN",
      "metadata": {
        "id": "vjig_KfmapxN"
      },
      "source": [
        "# Random Forest"
      ]
    },
    {
      "cell_type": "markdown",
      "id": "LPMV01IEJdWT",
      "metadata": {
        "id": "LPMV01IEJdWT"
      },
      "source": [
        "Removing Standardization because Algorithms that are scale-invariant or operate on bounded input data, such as Decision Trees, Random Forests, and Naive Bayes, may not require standardization or normalization."
      ]
    },
    {
      "cell_type": "code",
      "execution_count": null,
      "id": "0UR8XnqgJRy3",
      "metadata": {
        "id": "0UR8XnqgJRy3"
      },
      "outputs": [],
      "source": [
        "x = df_cleaned.drop(columns=['Delay'])\n",
        "Y = df_cleaned['Delay']\n",
        "x_train, x_test, Y_train, Y_test = train_test_split(x, Y, test_size=0.2, random_state=42)"
      ]
    },
    {
      "cell_type": "code",
      "execution_count": null,
      "id": "ffc813c7",
      "metadata": {
        "id": "ffc813c7"
      },
      "outputs": [],
      "source": [
        "rf.fit(x_train, Y_train)\n",
        "rf_pred = rf.predict(x_test)"
      ]
    },
    {
      "cell_type": "code",
      "execution_count": null,
      "id": "5omcCNL0emYy",
      "metadata": {
        "id": "5omcCNL0emYy"
      },
      "outputs": [],
      "source": [
        "rf_metrics = evaluate_model(Y_test, rf_pred)"
      ]
    },
    {
      "cell_type": "code",
      "execution_count": null,
      "id": "nmQWOdDmemay",
      "metadata": {
        "colab": {
          "base_uri": "https://localhost:8080/"
        },
        "id": "nmQWOdDmemay",
        "outputId": "58dce90c-8544-4a83-d3c1-fdb4ecbffa0f"
      },
      "outputs": [
        {
          "name": "stdout",
          "output_type": "stream",
          "text": [
            "Random Forest Metrics:\n",
            "Precision: 0.6724187795237636\n",
            "Recall: 0.5941353095253306\n",
            "F-score: 0.630857763055251\n",
            "Accuracy: 0.6916662731951462\n",
            "Misclassification Rate: 0.3083337268048538\n"
          ]
        }
      ],
      "source": [
        "print(\"Random Forest Metrics:\")\n",
        "print(\"Precision:\", rf_metrics[0])\n",
        "print(\"Recall:\", rf_metrics[1])\n",
        "print(\"F-score:\", rf_metrics[2])\n",
        "print(\"Accuracy:\", rf_metrics[3])\n",
        "print(\"Misclassification Rate:\", rf_metrics[4])"
      ]
    },
    {
      "cell_type": "code",
      "execution_count": null,
      "id": "AzNzzf7eemc4",
      "metadata": {
        "id": "AzNzzf7eemc4"
      },
      "outputs": [],
      "source": [
        "param_grid_rf = {\n",
        "    'n_estimators': [50, 100],\n",
        "    'max_depth': [None, 10],\n",
        "    'min_samples_split': [2, 5],\n",
        "    'min_samples_leaf': [1, 2],\n",
        "    'max_features': ['auto', 'sqrt']\n",
        "}"
      ]
    },
    {
      "cell_type": "code",
      "execution_count": null,
      "id": "MQXMlnZQemf3",
      "metadata": {
        "id": "MQXMlnZQemf3"
      },
      "outputs": [],
      "source": [
        "grid_search_rf = GridSearchCV(RandomForestClassifier(), param_grid_rf, cv=5, scoring='accuracy')"
      ]
    },
    {
      "cell_type": "code",
      "execution_count": null,
      "id": "CYxeU0kfemjS",
      "metadata": {
        "colab": {
          "base_uri": "https://localhost:8080/",
          "height": 1000
        },
        "id": "CYxeU0kfemjS",
        "outputId": "28a7d004-c5ec-4148-f632-3e394774741a"
      },
      "outputs": [
        {
          "name": "stderr",
          "output_type": "stream",
          "text": [
            "/usr/local/lib/python3.10/dist-packages/sklearn/ensemble/_forest.py:424: FutureWarning: `max_features='auto'` has been deprecated in 1.1 and will be removed in 1.3. To keep the past behaviour, explicitly set `max_features='sqrt'` or remove this parameter as it is also the default value for RandomForestClassifiers and ExtraTreesClassifiers.\n",
            "  warn(\n",
            "/usr/local/lib/python3.10/dist-packages/sklearn/ensemble/_forest.py:424: FutureWarning: `max_features='auto'` has been deprecated in 1.1 and will be removed in 1.3. To keep the past behaviour, explicitly set `max_features='sqrt'` or remove this parameter as it is also the default value for RandomForestClassifiers and ExtraTreesClassifiers.\n",
            "  warn(\n",
            "/usr/local/lib/python3.10/dist-packages/sklearn/ensemble/_forest.py:424: FutureWarning: `max_features='auto'` has been deprecated in 1.1 and will be removed in 1.3. To keep the past behaviour, explicitly set `max_features='sqrt'` or remove this parameter as it is also the default value for RandomForestClassifiers and ExtraTreesClassifiers.\n",
            "  warn(\n",
            "/usr/local/lib/python3.10/dist-packages/sklearn/ensemble/_forest.py:424: FutureWarning: `max_features='auto'` has been deprecated in 1.1 and will be removed in 1.3. To keep the past behaviour, explicitly set `max_features='sqrt'` or remove this parameter as it is also the default value for RandomForestClassifiers and ExtraTreesClassifiers.\n",
            "  warn(\n",
            "/usr/local/lib/python3.10/dist-packages/sklearn/ensemble/_forest.py:424: FutureWarning: `max_features='auto'` has been deprecated in 1.1 and will be removed in 1.3. To keep the past behaviour, explicitly set `max_features='sqrt'` or remove this parameter as it is also the default value for RandomForestClassifiers and ExtraTreesClassifiers.\n",
            "  warn(\n",
            "/usr/local/lib/python3.10/dist-packages/sklearn/ensemble/_forest.py:424: FutureWarning: `max_features='auto'` has been deprecated in 1.1 and will be removed in 1.3. To keep the past behaviour, explicitly set `max_features='sqrt'` or remove this parameter as it is also the default value for RandomForestClassifiers and ExtraTreesClassifiers.\n",
            "  warn(\n",
            "/usr/local/lib/python3.10/dist-packages/sklearn/ensemble/_forest.py:424: FutureWarning: `max_features='auto'` has been deprecated in 1.1 and will be removed in 1.3. To keep the past behaviour, explicitly set `max_features='sqrt'` or remove this parameter as it is also the default value for RandomForestClassifiers and ExtraTreesClassifiers.\n",
            "  warn(\n",
            "/usr/local/lib/python3.10/dist-packages/sklearn/ensemble/_forest.py:424: FutureWarning: `max_features='auto'` has been deprecated in 1.1 and will be removed in 1.3. To keep the past behaviour, explicitly set `max_features='sqrt'` or remove this parameter as it is also the default value for RandomForestClassifiers and ExtraTreesClassifiers.\n",
            "  warn(\n",
            "/usr/local/lib/python3.10/dist-packages/sklearn/ensemble/_forest.py:424: FutureWarning: `max_features='auto'` has been deprecated in 1.1 and will be removed in 1.3. To keep the past behaviour, explicitly set `max_features='sqrt'` or remove this parameter as it is also the default value for RandomForestClassifiers and ExtraTreesClassifiers.\n",
            "  warn(\n",
            "/usr/local/lib/python3.10/dist-packages/sklearn/ensemble/_forest.py:424: FutureWarning: `max_features='auto'` has been deprecated in 1.1 and will be removed in 1.3. To keep the past behaviour, explicitly set `max_features='sqrt'` or remove this parameter as it is also the default value for RandomForestClassifiers and ExtraTreesClassifiers.\n",
            "  warn(\n",
            "/usr/local/lib/python3.10/dist-packages/sklearn/ensemble/_forest.py:424: FutureWarning: `max_features='auto'` has been deprecated in 1.1 and will be removed in 1.3. To keep the past behaviour, explicitly set `max_features='sqrt'` or remove this parameter as it is also the default value for RandomForestClassifiers and ExtraTreesClassifiers.\n",
            "  warn(\n",
            "/usr/local/lib/python3.10/dist-packages/sklearn/ensemble/_forest.py:424: FutureWarning: `max_features='auto'` has been deprecated in 1.1 and will be removed in 1.3. To keep the past behaviour, explicitly set `max_features='sqrt'` or remove this parameter as it is also the default value for RandomForestClassifiers and ExtraTreesClassifiers.\n",
            "  warn(\n",
            "/usr/local/lib/python3.10/dist-packages/sklearn/ensemble/_forest.py:424: FutureWarning: `max_features='auto'` has been deprecated in 1.1 and will be removed in 1.3. To keep the past behaviour, explicitly set `max_features='sqrt'` or remove this parameter as it is also the default value for RandomForestClassifiers and ExtraTreesClassifiers.\n",
            "  warn(\n",
            "/usr/local/lib/python3.10/dist-packages/sklearn/ensemble/_forest.py:424: FutureWarning: `max_features='auto'` has been deprecated in 1.1 and will be removed in 1.3. To keep the past behaviour, explicitly set `max_features='sqrt'` or remove this parameter as it is also the default value for RandomForestClassifiers and ExtraTreesClassifiers.\n",
            "  warn(\n",
            "/usr/local/lib/python3.10/dist-packages/sklearn/ensemble/_forest.py:424: FutureWarning: `max_features='auto'` has been deprecated in 1.1 and will be removed in 1.3. To keep the past behaviour, explicitly set `max_features='sqrt'` or remove this parameter as it is also the default value for RandomForestClassifiers and ExtraTreesClassifiers.\n",
            "  warn(\n",
            "/usr/local/lib/python3.10/dist-packages/sklearn/ensemble/_forest.py:424: FutureWarning: `max_features='auto'` has been deprecated in 1.1 and will be removed in 1.3. To keep the past behaviour, explicitly set `max_features='sqrt'` or remove this parameter as it is also the default value for RandomForestClassifiers and ExtraTreesClassifiers.\n",
            "  warn(\n",
            "/usr/local/lib/python3.10/dist-packages/sklearn/ensemble/_forest.py:424: FutureWarning: `max_features='auto'` has been deprecated in 1.1 and will be removed in 1.3. To keep the past behaviour, explicitly set `max_features='sqrt'` or remove this parameter as it is also the default value for RandomForestClassifiers and ExtraTreesClassifiers.\n",
            "  warn(\n",
            "/usr/local/lib/python3.10/dist-packages/sklearn/ensemble/_forest.py:424: FutureWarning: `max_features='auto'` has been deprecated in 1.1 and will be removed in 1.3. To keep the past behaviour, explicitly set `max_features='sqrt'` or remove this parameter as it is also the default value for RandomForestClassifiers and ExtraTreesClassifiers.\n",
            "  warn(\n",
            "/usr/local/lib/python3.10/dist-packages/sklearn/ensemble/_forest.py:424: FutureWarning: `max_features='auto'` has been deprecated in 1.1 and will be removed in 1.3. To keep the past behaviour, explicitly set `max_features='sqrt'` or remove this parameter as it is also the default value for RandomForestClassifiers and ExtraTreesClassifiers.\n",
            "  warn(\n",
            "/usr/local/lib/python3.10/dist-packages/sklearn/ensemble/_forest.py:424: FutureWarning: `max_features='auto'` has been deprecated in 1.1 and will be removed in 1.3. To keep the past behaviour, explicitly set `max_features='sqrt'` or remove this parameter as it is also the default value for RandomForestClassifiers and ExtraTreesClassifiers.\n",
            "  warn(\n",
            "/usr/local/lib/python3.10/dist-packages/sklearn/ensemble/_forest.py:424: FutureWarning: `max_features='auto'` has been deprecated in 1.1 and will be removed in 1.3. To keep the past behaviour, explicitly set `max_features='sqrt'` or remove this parameter as it is also the default value for RandomForestClassifiers and ExtraTreesClassifiers.\n",
            "  warn(\n",
            "/usr/local/lib/python3.10/dist-packages/sklearn/ensemble/_forest.py:424: FutureWarning: `max_features='auto'` has been deprecated in 1.1 and will be removed in 1.3. To keep the past behaviour, explicitly set `max_features='sqrt'` or remove this parameter as it is also the default value for RandomForestClassifiers and ExtraTreesClassifiers.\n",
            "  warn(\n",
            "/usr/local/lib/python3.10/dist-packages/sklearn/ensemble/_forest.py:424: FutureWarning: `max_features='auto'` has been deprecated in 1.1 and will be removed in 1.3. To keep the past behaviour, explicitly set `max_features='sqrt'` or remove this parameter as it is also the default value for RandomForestClassifiers and ExtraTreesClassifiers.\n",
            "  warn(\n",
            "/usr/local/lib/python3.10/dist-packages/sklearn/ensemble/_forest.py:424: FutureWarning: `max_features='auto'` has been deprecated in 1.1 and will be removed in 1.3. To keep the past behaviour, explicitly set `max_features='sqrt'` or remove this parameter as it is also the default value for RandomForestClassifiers and ExtraTreesClassifiers.\n",
            "  warn(\n",
            "/usr/local/lib/python3.10/dist-packages/sklearn/ensemble/_forest.py:424: FutureWarning: `max_features='auto'` has been deprecated in 1.1 and will be removed in 1.3. To keep the past behaviour, explicitly set `max_features='sqrt'` or remove this parameter as it is also the default value for RandomForestClassifiers and ExtraTreesClassifiers.\n",
            "  warn(\n",
            "/usr/local/lib/python3.10/dist-packages/sklearn/ensemble/_forest.py:424: FutureWarning: `max_features='auto'` has been deprecated in 1.1 and will be removed in 1.3. To keep the past behaviour, explicitly set `max_features='sqrt'` or remove this parameter as it is also the default value for RandomForestClassifiers and ExtraTreesClassifiers.\n",
            "  warn(\n",
            "/usr/local/lib/python3.10/dist-packages/sklearn/ensemble/_forest.py:424: FutureWarning: `max_features='auto'` has been deprecated in 1.1 and will be removed in 1.3. To keep the past behaviour, explicitly set `max_features='sqrt'` or remove this parameter as it is also the default value for RandomForestClassifiers and ExtraTreesClassifiers.\n",
            "  warn(\n",
            "/usr/local/lib/python3.10/dist-packages/sklearn/ensemble/_forest.py:424: FutureWarning: `max_features='auto'` has been deprecated in 1.1 and will be removed in 1.3. To keep the past behaviour, explicitly set `max_features='sqrt'` or remove this parameter as it is also the default value for RandomForestClassifiers and ExtraTreesClassifiers.\n",
            "  warn(\n",
            "/usr/local/lib/python3.10/dist-packages/sklearn/ensemble/_forest.py:424: FutureWarning: `max_features='auto'` has been deprecated in 1.1 and will be removed in 1.3. To keep the past behaviour, explicitly set `max_features='sqrt'` or remove this parameter as it is also the default value for RandomForestClassifiers and ExtraTreesClassifiers.\n",
            "  warn(\n",
            "/usr/local/lib/python3.10/dist-packages/sklearn/ensemble/_forest.py:424: FutureWarning: `max_features='auto'` has been deprecated in 1.1 and will be removed in 1.3. To keep the past behaviour, explicitly set `max_features='sqrt'` or remove this parameter as it is also the default value for RandomForestClassifiers and ExtraTreesClassifiers.\n",
            "  warn(\n",
            "/usr/local/lib/python3.10/dist-packages/sklearn/ensemble/_forest.py:424: FutureWarning: `max_features='auto'` has been deprecated in 1.1 and will be removed in 1.3. To keep the past behaviour, explicitly set `max_features='sqrt'` or remove this parameter as it is also the default value for RandomForestClassifiers and ExtraTreesClassifiers.\n",
            "  warn(\n",
            "/usr/local/lib/python3.10/dist-packages/sklearn/ensemble/_forest.py:424: FutureWarning: `max_features='auto'` has been deprecated in 1.1 and will be removed in 1.3. To keep the past behaviour, explicitly set `max_features='sqrt'` or remove this parameter as it is also the default value for RandomForestClassifiers and ExtraTreesClassifiers.\n",
            "  warn(\n",
            "/usr/local/lib/python3.10/dist-packages/sklearn/ensemble/_forest.py:424: FutureWarning: `max_features='auto'` has been deprecated in 1.1 and will be removed in 1.3. To keep the past behaviour, explicitly set `max_features='sqrt'` or remove this parameter as it is also the default value for RandomForestClassifiers and ExtraTreesClassifiers.\n",
            "  warn(\n",
            "/usr/local/lib/python3.10/dist-packages/sklearn/ensemble/_forest.py:424: FutureWarning: `max_features='auto'` has been deprecated in 1.1 and will be removed in 1.3. To keep the past behaviour, explicitly set `max_features='sqrt'` or remove this parameter as it is also the default value for RandomForestClassifiers and ExtraTreesClassifiers.\n",
            "  warn(\n",
            "/usr/local/lib/python3.10/dist-packages/sklearn/ensemble/_forest.py:424: FutureWarning: `max_features='auto'` has been deprecated in 1.1 and will be removed in 1.3. To keep the past behaviour, explicitly set `max_features='sqrt'` or remove this parameter as it is also the default value for RandomForestClassifiers and ExtraTreesClassifiers.\n",
            "  warn(\n",
            "/usr/local/lib/python3.10/dist-packages/sklearn/ensemble/_forest.py:424: FutureWarning: `max_features='auto'` has been deprecated in 1.1 and will be removed in 1.3. To keep the past behaviour, explicitly set `max_features='sqrt'` or remove this parameter as it is also the default value for RandomForestClassifiers and ExtraTreesClassifiers.\n",
            "  warn(\n",
            "/usr/local/lib/python3.10/dist-packages/sklearn/ensemble/_forest.py:424: FutureWarning: `max_features='auto'` has been deprecated in 1.1 and will be removed in 1.3. To keep the past behaviour, explicitly set `max_features='sqrt'` or remove this parameter as it is also the default value for RandomForestClassifiers and ExtraTreesClassifiers.\n",
            "  warn(\n",
            "/usr/local/lib/python3.10/dist-packages/sklearn/ensemble/_forest.py:424: FutureWarning: `max_features='auto'` has been deprecated in 1.1 and will be removed in 1.3. To keep the past behaviour, explicitly set `max_features='sqrt'` or remove this parameter as it is also the default value for RandomForestClassifiers and ExtraTreesClassifiers.\n",
            "  warn(\n",
            "/usr/local/lib/python3.10/dist-packages/sklearn/ensemble/_forest.py:424: FutureWarning: `max_features='auto'` has been deprecated in 1.1 and will be removed in 1.3. To keep the past behaviour, explicitly set `max_features='sqrt'` or remove this parameter as it is also the default value for RandomForestClassifiers and ExtraTreesClassifiers.\n",
            "  warn(\n",
            "/usr/local/lib/python3.10/dist-packages/sklearn/ensemble/_forest.py:424: FutureWarning: `max_features='auto'` has been deprecated in 1.1 and will be removed in 1.3. To keep the past behaviour, explicitly set `max_features='sqrt'` or remove this parameter as it is also the default value for RandomForestClassifiers and ExtraTreesClassifiers.\n",
            "  warn(\n",
            "/usr/local/lib/python3.10/dist-packages/sklearn/ensemble/_forest.py:424: FutureWarning: `max_features='auto'` has been deprecated in 1.1 and will be removed in 1.3. To keep the past behaviour, explicitly set `max_features='sqrt'` or remove this parameter as it is also the default value for RandomForestClassifiers and ExtraTreesClassifiers.\n",
            "  warn(\n",
            "/usr/local/lib/python3.10/dist-packages/sklearn/ensemble/_forest.py:424: FutureWarning: `max_features='auto'` has been deprecated in 1.1 and will be removed in 1.3. To keep the past behaviour, explicitly set `max_features='sqrt'` or remove this parameter as it is also the default value for RandomForestClassifiers and ExtraTreesClassifiers.\n",
            "  warn(\n",
            "/usr/local/lib/python3.10/dist-packages/sklearn/ensemble/_forest.py:424: FutureWarning: `max_features='auto'` has been deprecated in 1.1 and will be removed in 1.3. To keep the past behaviour, explicitly set `max_features='sqrt'` or remove this parameter as it is also the default value for RandomForestClassifiers and ExtraTreesClassifiers.\n",
            "  warn(\n",
            "/usr/local/lib/python3.10/dist-packages/sklearn/ensemble/_forest.py:424: FutureWarning: `max_features='auto'` has been deprecated in 1.1 and will be removed in 1.3. To keep the past behaviour, explicitly set `max_features='sqrt'` or remove this parameter as it is also the default value for RandomForestClassifiers and ExtraTreesClassifiers.\n",
            "  warn(\n",
            "/usr/local/lib/python3.10/dist-packages/sklearn/ensemble/_forest.py:424: FutureWarning: `max_features='auto'` has been deprecated in 1.1 and will be removed in 1.3. To keep the past behaviour, explicitly set `max_features='sqrt'` or remove this parameter as it is also the default value for RandomForestClassifiers and ExtraTreesClassifiers.\n",
            "  warn(\n",
            "/usr/local/lib/python3.10/dist-packages/sklearn/ensemble/_forest.py:424: FutureWarning: `max_features='auto'` has been deprecated in 1.1 and will be removed in 1.3. To keep the past behaviour, explicitly set `max_features='sqrt'` or remove this parameter as it is also the default value for RandomForestClassifiers and ExtraTreesClassifiers.\n",
            "  warn(\n",
            "/usr/local/lib/python3.10/dist-packages/sklearn/ensemble/_forest.py:424: FutureWarning: `max_features='auto'` has been deprecated in 1.1 and will be removed in 1.3. To keep the past behaviour, explicitly set `max_features='sqrt'` or remove this parameter as it is also the default value for RandomForestClassifiers and ExtraTreesClassifiers.\n",
            "  warn(\n",
            "/usr/local/lib/python3.10/dist-packages/sklearn/ensemble/_forest.py:424: FutureWarning: `max_features='auto'` has been deprecated in 1.1 and will be removed in 1.3. To keep the past behaviour, explicitly set `max_features='sqrt'` or remove this parameter as it is also the default value for RandomForestClassifiers and ExtraTreesClassifiers.\n",
            "  warn(\n",
            "/usr/local/lib/python3.10/dist-packages/sklearn/ensemble/_forest.py:424: FutureWarning: `max_features='auto'` has been deprecated in 1.1 and will be removed in 1.3. To keep the past behaviour, explicitly set `max_features='sqrt'` or remove this parameter as it is also the default value for RandomForestClassifiers and ExtraTreesClassifiers.\n",
            "  warn(\n",
            "/usr/local/lib/python3.10/dist-packages/sklearn/ensemble/_forest.py:424: FutureWarning: `max_features='auto'` has been deprecated in 1.1 and will be removed in 1.3. To keep the past behaviour, explicitly set `max_features='sqrt'` or remove this parameter as it is also the default value for RandomForestClassifiers and ExtraTreesClassifiers.\n",
            "  warn(\n",
            "/usr/local/lib/python3.10/dist-packages/sklearn/ensemble/_forest.py:424: FutureWarning: `max_features='auto'` has been deprecated in 1.1 and will be removed in 1.3. To keep the past behaviour, explicitly set `max_features='sqrt'` or remove this parameter as it is also the default value for RandomForestClassifiers and ExtraTreesClassifiers.\n",
            "  warn(\n",
            "/usr/local/lib/python3.10/dist-packages/sklearn/ensemble/_forest.py:424: FutureWarning: `max_features='auto'` has been deprecated in 1.1 and will be removed in 1.3. To keep the past behaviour, explicitly set `max_features='sqrt'` or remove this parameter as it is also the default value for RandomForestClassifiers and ExtraTreesClassifiers.\n",
            "  warn(\n",
            "/usr/local/lib/python3.10/dist-packages/sklearn/ensemble/_forest.py:424: FutureWarning: `max_features='auto'` has been deprecated in 1.1 and will be removed in 1.3. To keep the past behaviour, explicitly set `max_features='sqrt'` or remove this parameter as it is also the default value for RandomForestClassifiers and ExtraTreesClassifiers.\n",
            "  warn(\n",
            "/usr/local/lib/python3.10/dist-packages/sklearn/ensemble/_forest.py:424: FutureWarning: `max_features='auto'` has been deprecated in 1.1 and will be removed in 1.3. To keep the past behaviour, explicitly set `max_features='sqrt'` or remove this parameter as it is also the default value for RandomForestClassifiers and ExtraTreesClassifiers.\n",
            "  warn(\n",
            "/usr/local/lib/python3.10/dist-packages/sklearn/ensemble/_forest.py:424: FutureWarning: `max_features='auto'` has been deprecated in 1.1 and will be removed in 1.3. To keep the past behaviour, explicitly set `max_features='sqrt'` or remove this parameter as it is also the default value for RandomForestClassifiers and ExtraTreesClassifiers.\n",
            "  warn(\n",
            "/usr/local/lib/python3.10/dist-packages/sklearn/ensemble/_forest.py:424: FutureWarning: `max_features='auto'` has been deprecated in 1.1 and will be removed in 1.3. To keep the past behaviour, explicitly set `max_features='sqrt'` or remove this parameter as it is also the default value for RandomForestClassifiers and ExtraTreesClassifiers.\n",
            "  warn(\n",
            "/usr/local/lib/python3.10/dist-packages/sklearn/ensemble/_forest.py:424: FutureWarning: `max_features='auto'` has been deprecated in 1.1 and will be removed in 1.3. To keep the past behaviour, explicitly set `max_features='sqrt'` or remove this parameter as it is also the default value for RandomForestClassifiers and ExtraTreesClassifiers.\n",
            "  warn(\n",
            "/usr/local/lib/python3.10/dist-packages/sklearn/ensemble/_forest.py:424: FutureWarning: `max_features='auto'` has been deprecated in 1.1 and will be removed in 1.3. To keep the past behaviour, explicitly set `max_features='sqrt'` or remove this parameter as it is also the default value for RandomForestClassifiers and ExtraTreesClassifiers.\n",
            "  warn(\n",
            "/usr/local/lib/python3.10/dist-packages/sklearn/ensemble/_forest.py:424: FutureWarning: `max_features='auto'` has been deprecated in 1.1 and will be removed in 1.3. To keep the past behaviour, explicitly set `max_features='sqrt'` or remove this parameter as it is also the default value for RandomForestClassifiers and ExtraTreesClassifiers.\n",
            "  warn(\n",
            "/usr/local/lib/python3.10/dist-packages/sklearn/ensemble/_forest.py:424: FutureWarning: `max_features='auto'` has been deprecated in 1.1 and will be removed in 1.3. To keep the past behaviour, explicitly set `max_features='sqrt'` or remove this parameter as it is also the default value for RandomForestClassifiers and ExtraTreesClassifiers.\n",
            "  warn(\n",
            "/usr/local/lib/python3.10/dist-packages/sklearn/ensemble/_forest.py:424: FutureWarning: `max_features='auto'` has been deprecated in 1.1 and will be removed in 1.3. To keep the past behaviour, explicitly set `max_features='sqrt'` or remove this parameter as it is also the default value for RandomForestClassifiers and ExtraTreesClassifiers.\n",
            "  warn(\n",
            "/usr/local/lib/python3.10/dist-packages/sklearn/ensemble/_forest.py:424: FutureWarning: `max_features='auto'` has been deprecated in 1.1 and will be removed in 1.3. To keep the past behaviour, explicitly set `max_features='sqrt'` or remove this parameter as it is also the default value for RandomForestClassifiers and ExtraTreesClassifiers.\n",
            "  warn(\n",
            "/usr/local/lib/python3.10/dist-packages/sklearn/ensemble/_forest.py:424: FutureWarning: `max_features='auto'` has been deprecated in 1.1 and will be removed in 1.3. To keep the past behaviour, explicitly set `max_features='sqrt'` or remove this parameter as it is also the default value for RandomForestClassifiers and ExtraTreesClassifiers.\n",
            "  warn(\n",
            "/usr/local/lib/python3.10/dist-packages/sklearn/ensemble/_forest.py:424: FutureWarning: `max_features='auto'` has been deprecated in 1.1 and will be removed in 1.3. To keep the past behaviour, explicitly set `max_features='sqrt'` or remove this parameter as it is also the default value for RandomForestClassifiers and ExtraTreesClassifiers.\n",
            "  warn(\n",
            "/usr/local/lib/python3.10/dist-packages/sklearn/ensemble/_forest.py:424: FutureWarning: `max_features='auto'` has been deprecated in 1.1 and will be removed in 1.3. To keep the past behaviour, explicitly set `max_features='sqrt'` or remove this parameter as it is also the default value for RandomForestClassifiers and ExtraTreesClassifiers.\n",
            "  warn(\n",
            "/usr/local/lib/python3.10/dist-packages/sklearn/ensemble/_forest.py:424: FutureWarning: `max_features='auto'` has been deprecated in 1.1 and will be removed in 1.3. To keep the past behaviour, explicitly set `max_features='sqrt'` or remove this parameter as it is also the default value for RandomForestClassifiers and ExtraTreesClassifiers.\n",
            "  warn(\n",
            "/usr/local/lib/python3.10/dist-packages/sklearn/ensemble/_forest.py:424: FutureWarning: `max_features='auto'` has been deprecated in 1.1 and will be removed in 1.3. To keep the past behaviour, explicitly set `max_features='sqrt'` or remove this parameter as it is also the default value for RandomForestClassifiers and ExtraTreesClassifiers.\n",
            "  warn(\n",
            "/usr/local/lib/python3.10/dist-packages/sklearn/ensemble/_forest.py:424: FutureWarning: `max_features='auto'` has been deprecated in 1.1 and will be removed in 1.3. To keep the past behaviour, explicitly set `max_features='sqrt'` or remove this parameter as it is also the default value for RandomForestClassifiers and ExtraTreesClassifiers.\n",
            "  warn(\n",
            "/usr/local/lib/python3.10/dist-packages/sklearn/ensemble/_forest.py:424: FutureWarning: `max_features='auto'` has been deprecated in 1.1 and will be removed in 1.3. To keep the past behaviour, explicitly set `max_features='sqrt'` or remove this parameter as it is also the default value for RandomForestClassifiers and ExtraTreesClassifiers.\n",
            "  warn(\n",
            "/usr/local/lib/python3.10/dist-packages/sklearn/ensemble/_forest.py:424: FutureWarning: `max_features='auto'` has been deprecated in 1.1 and will be removed in 1.3. To keep the past behaviour, explicitly set `max_features='sqrt'` or remove this parameter as it is also the default value for RandomForestClassifiers and ExtraTreesClassifiers.\n",
            "  warn(\n",
            "/usr/local/lib/python3.10/dist-packages/sklearn/ensemble/_forest.py:424: FutureWarning: `max_features='auto'` has been deprecated in 1.1 and will be removed in 1.3. To keep the past behaviour, explicitly set `max_features='sqrt'` or remove this parameter as it is also the default value for RandomForestClassifiers and ExtraTreesClassifiers.\n",
            "  warn(\n",
            "/usr/local/lib/python3.10/dist-packages/sklearn/ensemble/_forest.py:424: FutureWarning: `max_features='auto'` has been deprecated in 1.1 and will be removed in 1.3. To keep the past behaviour, explicitly set `max_features='sqrt'` or remove this parameter as it is also the default value for RandomForestClassifiers and ExtraTreesClassifiers.\n",
            "  warn(\n",
            "/usr/local/lib/python3.10/dist-packages/sklearn/ensemble/_forest.py:424: FutureWarning: `max_features='auto'` has been deprecated in 1.1 and will be removed in 1.3. To keep the past behaviour, explicitly set `max_features='sqrt'` or remove this parameter as it is also the default value for RandomForestClassifiers and ExtraTreesClassifiers.\n",
            "  warn(\n",
            "/usr/local/lib/python3.10/dist-packages/sklearn/ensemble/_forest.py:424: FutureWarning: `max_features='auto'` has been deprecated in 1.1 and will be removed in 1.3. To keep the past behaviour, explicitly set `max_features='sqrt'` or remove this parameter as it is also the default value for RandomForestClassifiers and ExtraTreesClassifiers.\n",
            "  warn(\n",
            "/usr/local/lib/python3.10/dist-packages/sklearn/ensemble/_forest.py:424: FutureWarning: `max_features='auto'` has been deprecated in 1.1 and will be removed in 1.3. To keep the past behaviour, explicitly set `max_features='sqrt'` or remove this parameter as it is also the default value for RandomForestClassifiers and ExtraTreesClassifiers.\n",
            "  warn(\n",
            "/usr/local/lib/python3.10/dist-packages/sklearn/ensemble/_forest.py:424: FutureWarning: `max_features='auto'` has been deprecated in 1.1 and will be removed in 1.3. To keep the past behaviour, explicitly set `max_features='sqrt'` or remove this parameter as it is also the default value for RandomForestClassifiers and ExtraTreesClassifiers.\n",
            "  warn(\n",
            "/usr/local/lib/python3.10/dist-packages/sklearn/ensemble/_forest.py:424: FutureWarning: `max_features='auto'` has been deprecated in 1.1 and will be removed in 1.3. To keep the past behaviour, explicitly set `max_features='sqrt'` or remove this parameter as it is also the default value for RandomForestClassifiers and ExtraTreesClassifiers.\n",
            "  warn(\n",
            "/usr/local/lib/python3.10/dist-packages/sklearn/ensemble/_forest.py:424: FutureWarning: `max_features='auto'` has been deprecated in 1.1 and will be removed in 1.3. To keep the past behaviour, explicitly set `max_features='sqrt'` or remove this parameter as it is also the default value for RandomForestClassifiers and ExtraTreesClassifiers.\n",
            "  warn(\n",
            "/usr/local/lib/python3.10/dist-packages/sklearn/ensemble/_forest.py:424: FutureWarning: `max_features='auto'` has been deprecated in 1.1 and will be removed in 1.3. To keep the past behaviour, explicitly set `max_features='sqrt'` or remove this parameter as it is also the default value for RandomForestClassifiers and ExtraTreesClassifiers.\n",
            "  warn(\n",
            "/usr/local/lib/python3.10/dist-packages/sklearn/ensemble/_forest.py:424: FutureWarning: `max_features='auto'` has been deprecated in 1.1 and will be removed in 1.3. To keep the past behaviour, explicitly set `max_features='sqrt'` or remove this parameter as it is also the default value for RandomForestClassifiers and ExtraTreesClassifiers.\n",
            "  warn(\n",
            "/usr/local/lib/python3.10/dist-packages/sklearn/ensemble/_forest.py:424: FutureWarning: `max_features='auto'` has been deprecated in 1.1 and will be removed in 1.3. To keep the past behaviour, explicitly set `max_features='sqrt'` or remove this parameter as it is also the default value for RandomForestClassifiers and ExtraTreesClassifiers.\n",
            "  warn(\n"
          ]
        },
        {
          "data": {
            "text/html": [
              "<style>#sk-container-id-1 {color: black;background-color: white;}#sk-container-id-1 pre{padding: 0;}#sk-container-id-1 div.sk-toggleable {background-color: white;}#sk-container-id-1 label.sk-toggleable__label {cursor: pointer;display: block;width: 100%;margin-bottom: 0;padding: 0.3em;box-sizing: border-box;text-align: center;}#sk-container-id-1 label.sk-toggleable__label-arrow:before {content: \"▸\";float: left;margin-right: 0.25em;color: #696969;}#sk-container-id-1 label.sk-toggleable__label-arrow:hover:before {color: black;}#sk-container-id-1 div.sk-estimator:hover label.sk-toggleable__label-arrow:before {color: black;}#sk-container-id-1 div.sk-toggleable__content {max-height: 0;max-width: 0;overflow: hidden;text-align: left;background-color: #f0f8ff;}#sk-container-id-1 div.sk-toggleable__content pre {margin: 0.2em;color: black;border-radius: 0.25em;background-color: #f0f8ff;}#sk-container-id-1 input.sk-toggleable__control:checked~div.sk-toggleable__content {max-height: 200px;max-width: 100%;overflow: auto;}#sk-container-id-1 input.sk-toggleable__control:checked~label.sk-toggleable__label-arrow:before {content: \"▾\";}#sk-container-id-1 div.sk-estimator input.sk-toggleable__control:checked~label.sk-toggleable__label {background-color: #d4ebff;}#sk-container-id-1 div.sk-label input.sk-toggleable__control:checked~label.sk-toggleable__label {background-color: #d4ebff;}#sk-container-id-1 input.sk-hidden--visually {border: 0;clip: rect(1px 1px 1px 1px);clip: rect(1px, 1px, 1px, 1px);height: 1px;margin: -1px;overflow: hidden;padding: 0;position: absolute;width: 1px;}#sk-container-id-1 div.sk-estimator {font-family: monospace;background-color: #f0f8ff;border: 1px dotted black;border-radius: 0.25em;box-sizing: border-box;margin-bottom: 0.5em;}#sk-container-id-1 div.sk-estimator:hover {background-color: #d4ebff;}#sk-container-id-1 div.sk-parallel-item::after {content: \"\";width: 100%;border-bottom: 1px solid gray;flex-grow: 1;}#sk-container-id-1 div.sk-label:hover label.sk-toggleable__label {background-color: #d4ebff;}#sk-container-id-1 div.sk-serial::before {content: \"\";position: absolute;border-left: 1px solid gray;box-sizing: border-box;top: 0;bottom: 0;left: 50%;z-index: 0;}#sk-container-id-1 div.sk-serial {display: flex;flex-direction: column;align-items: center;background-color: white;padding-right: 0.2em;padding-left: 0.2em;position: relative;}#sk-container-id-1 div.sk-item {position: relative;z-index: 1;}#sk-container-id-1 div.sk-parallel {display: flex;align-items: stretch;justify-content: center;background-color: white;position: relative;}#sk-container-id-1 div.sk-item::before, #sk-container-id-1 div.sk-parallel-item::before {content: \"\";position: absolute;border-left: 1px solid gray;box-sizing: border-box;top: 0;bottom: 0;left: 50%;z-index: -1;}#sk-container-id-1 div.sk-parallel-item {display: flex;flex-direction: column;z-index: 1;position: relative;background-color: white;}#sk-container-id-1 div.sk-parallel-item:first-child::after {align-self: flex-end;width: 50%;}#sk-container-id-1 div.sk-parallel-item:last-child::after {align-self: flex-start;width: 50%;}#sk-container-id-1 div.sk-parallel-item:only-child::after {width: 0;}#sk-container-id-1 div.sk-dashed-wrapped {border: 1px dashed gray;margin: 0 0.4em 0.5em 0.4em;box-sizing: border-box;padding-bottom: 0.4em;background-color: white;}#sk-container-id-1 div.sk-label label {font-family: monospace;font-weight: bold;display: inline-block;line-height: 1.2em;}#sk-container-id-1 div.sk-label-container {text-align: center;}#sk-container-id-1 div.sk-container {/* jupyter's `normalize.less` sets `[hidden] { display: none; }` but bootstrap.min.css set `[hidden] { display: none !important; }` so we also need the `!important` here to be able to override the default hidden behavior on the sphinx rendered scikit-learn.org. See: https://github.com/scikit-learn/scikit-learn/issues/21755 */display: inline-block !important;position: relative;}#sk-container-id-1 div.sk-text-repr-fallback {display: none;}</style><div id=\"sk-container-id-1\" class=\"sk-top-container\"><div class=\"sk-text-repr-fallback\"><pre>GridSearchCV(cv=5, estimator=RandomForestClassifier(),\n",
              "             param_grid={&#x27;max_depth&#x27;: [None, 10],\n",
              "                         &#x27;max_features&#x27;: [&#x27;auto&#x27;, &#x27;sqrt&#x27;],\n",
              "                         &#x27;min_samples_leaf&#x27;: [1, 2],\n",
              "                         &#x27;min_samples_split&#x27;: [2, 5],\n",
              "                         &#x27;n_estimators&#x27;: [50, 100]},\n",
              "             scoring=&#x27;accuracy&#x27;)</pre><b>In a Jupyter environment, please rerun this cell to show the HTML representation or trust the notebook. <br />On GitHub, the HTML representation is unable to render, please try loading this page with nbviewer.org.</b></div><div class=\"sk-container\" hidden><div class=\"sk-item sk-dashed-wrapped\"><div class=\"sk-label-container\"><div class=\"sk-label sk-toggleable\"><input class=\"sk-toggleable__control sk-hidden--visually\" id=\"sk-estimator-id-1\" type=\"checkbox\" ><label for=\"sk-estimator-id-1\" class=\"sk-toggleable__label sk-toggleable__label-arrow\">GridSearchCV</label><div class=\"sk-toggleable__content\"><pre>GridSearchCV(cv=5, estimator=RandomForestClassifier(),\n",
              "             param_grid={&#x27;max_depth&#x27;: [None, 10],\n",
              "                         &#x27;max_features&#x27;: [&#x27;auto&#x27;, &#x27;sqrt&#x27;],\n",
              "                         &#x27;min_samples_leaf&#x27;: [1, 2],\n",
              "                         &#x27;min_samples_split&#x27;: [2, 5],\n",
              "                         &#x27;n_estimators&#x27;: [50, 100]},\n",
              "             scoring=&#x27;accuracy&#x27;)</pre></div></div></div><div class=\"sk-parallel\"><div class=\"sk-parallel-item\"><div class=\"sk-item\"><div class=\"sk-label-container\"><div class=\"sk-label sk-toggleable\"><input class=\"sk-toggleable__control sk-hidden--visually\" id=\"sk-estimator-id-2\" type=\"checkbox\" ><label for=\"sk-estimator-id-2\" class=\"sk-toggleable__label sk-toggleable__label-arrow\">estimator: RandomForestClassifier</label><div class=\"sk-toggleable__content\"><pre>RandomForestClassifier()</pre></div></div></div><div class=\"sk-serial\"><div class=\"sk-item\"><div class=\"sk-estimator sk-toggleable\"><input class=\"sk-toggleable__control sk-hidden--visually\" id=\"sk-estimator-id-3\" type=\"checkbox\" ><label for=\"sk-estimator-id-3\" class=\"sk-toggleable__label sk-toggleable__label-arrow\">RandomForestClassifier</label><div class=\"sk-toggleable__content\"><pre>RandomForestClassifier()</pre></div></div></div></div></div></div></div></div></div></div>"
            ],
            "text/plain": [
              "GridSearchCV(cv=5, estimator=RandomForestClassifier(),\n",
              "             param_grid={'max_depth': [None, 10],\n",
              "                         'max_features': ['auto', 'sqrt'],\n",
              "                         'min_samples_leaf': [1, 2],\n",
              "                         'min_samples_split': [2, 5],\n",
              "                         'n_estimators': [50, 100]},\n",
              "             scoring='accuracy')"
            ]
          },
          "execution_count": 28,
          "metadata": {},
          "output_type": "execute_result"
        }
      ],
      "source": [
        "grid_search_rf.fit(x_train, Y_train)"
      ]
    },
    {
      "cell_type": "code",
      "execution_count": null,
      "id": "56yloBzpemqx",
      "metadata": {
        "id": "56yloBzpemqx"
      },
      "outputs": [],
      "source": [
        "best_params_rf = grid_search_rf.best_params_\n",
        "best_score_rf = grid_search_rf.best_score_"
      ]
    },
    {
      "cell_type": "code",
      "execution_count": null,
      "id": "5ZaHOGZLemsz",
      "metadata": {
        "colab": {
          "base_uri": "https://localhost:8080/"
        },
        "id": "5ZaHOGZLemsz",
        "outputId": "5fc71f3b-007a-4321-a3ad-4df36e76eb42"
      },
      "outputs": [
        {
          "name": "stdout",
          "output_type": "stream",
          "text": [
            "Random Forest - Best Parameters: {'max_depth': None, 'max_features': 'auto', 'min_samples_leaf': 2, 'min_samples_split': 5, 'n_estimators': 100}\n",
            "Random Forest - Best Score: 0.6979281251307267\n"
          ]
        }
      ],
      "source": [
        "print(\"Random Forest - Best Parameters:\", best_params_rf)\n",
        "print(\"Random Forest - Best Score:\", best_score_rf)"
      ]
    },
    {
      "cell_type": "code",
      "execution_count": null,
      "id": "ScUuyzgbemwN",
      "metadata": {
        "id": "ScUuyzgbemwN"
      },
      "outputs": [],
      "source": [
        "rf_tuned_pred = grid_search_rf.predict(X_test)\n",
        "rf_tuned_metrics = evaluate_model(y_test, rf_tuned_pred)"
      ]
    },
    {
      "cell_type": "code",
      "execution_count": null,
      "id": "jh6trLhffX7G",
      "metadata": {
        "colab": {
          "base_uri": "https://localhost:8080/"
        },
        "id": "jh6trLhffX7G",
        "outputId": "3f2942ee-943d-4132-b424-e71731fb99e8"
      },
      "outputs": [
        {
          "name": "stdout",
          "output_type": "stream",
          "text": [
            "Random Forest Metrics After Hyperparameter Tuning:\n",
            "Precision: 0.7745142340713963\n",
            "Recall: 0.036499925466896656\n",
            "F-score: 0.06971447165053284\n",
            "Accuracy: 0.5680249303555409\n",
            "Misclassification Rate: 0.4319750696444591\n"
          ]
        }
      ],
      "source": [
        "print(\"Random Forest Metrics After Hyperparameter Tuning:\")\n",
        "print(\"Precision:\", rf_tuned_metrics[0])\n",
        "print(\"Recall:\", rf_tuned_metrics[1])\n",
        "print(\"F-score:\", rf_tuned_metrics[2])\n",
        "print(\"Accuracy:\", rf_tuned_metrics[3])\n",
        "print(\"Misclassification Rate:\", rf_tuned_metrics[4])"
      ]
    },
    {
      "cell_type": "code",
      "execution_count": null,
      "id": "b_kleNHof4P0",
      "metadata": {
        "colab": {
          "base_uri": "https://localhost:8080/"
        },
        "id": "b_kleNHof4P0",
        "outputId": "674c65f7-5882-4ef9-a626-f485a900ab11"
      },
      "outputs": [
        {
          "name": "stdout",
          "output_type": "stream",
          "text": [
            "Classification Report for Random Forest:\n",
            "              precision    recall  f1-score   support\n",
            "\n",
            "           0       0.56      0.99      0.72     58936\n",
            "           1       0.77      0.04      0.07     46959\n",
            "\n",
            "    accuracy                           0.57    105895\n",
            "   macro avg       0.67      0.51      0.39    105895\n",
            "weighted avg       0.66      0.57      0.43    105895\n",
            "\n"
          ]
        }
      ],
      "source": [
        "print(\"Classification Report for Random Forest:\")\n",
        "print(classification_report(y_test, rf_tuned_pred))"
      ]
    },
    {
      "cell_type": "markdown",
      "id": "cVUUi0JYawD5",
      "metadata": {
        "id": "cVUUi0JYawD5"
      },
      "source": [
        "# Adaboost"
      ]
    },
    {
      "cell_type": "code",
      "execution_count": null,
      "id": "ce7624bb",
      "metadata": {
        "id": "ce7624bb"
      },
      "outputs": [],
      "source": [
        "adaboost.fit(X_train, y_train)\n",
        "adaboost_pred = adaboost.predict(X_test)"
      ]
    },
    {
      "cell_type": "code",
      "execution_count": null,
      "id": "f2bf3a00",
      "metadata": {
        "id": "f2bf3a00"
      },
      "outputs": [],
      "source": [
        "adaboost_metrics = evaluate_model(y_test, adaboost_pred)"
      ]
    },
    {
      "cell_type": "code",
      "execution_count": null,
      "id": "5bc1e47b",
      "metadata": {
        "colab": {
          "base_uri": "https://localhost:8080/"
        },
        "id": "5bc1e47b",
        "outputId": "f6a95ad1-8600-469b-d890-0dbeabe2ac5d"
      },
      "outputs": [
        {
          "name": "stdout",
          "output_type": "stream",
          "text": [
            "Adaboost Metrics:\n",
            "Precision: 0.6314164030783791\n",
            "Recall: 0.5398752102898273\n",
            "F-score: 0.5820686488348066\n",
            "Accuracy: 0.6562066197648614\n",
            "Misclassification Rate: 0.3437933802351386\n"
          ]
        }
      ],
      "source": [
        "print(\"Adaboost Metrics:\")\n",
        "print(\"Precision:\", adaboost_metrics[0])\n",
        "print(\"Recall:\", adaboost_metrics[1])\n",
        "print(\"F-score:\", adaboost_metrics[2])\n",
        "print(\"Accuracy:\", adaboost_metrics[3])\n",
        "print(\"Misclassification Rate:\", adaboost_metrics[4])"
      ]
    },
    {
      "cell_type": "code",
      "execution_count": null,
      "id": "66e3883f",
      "metadata": {
        "id": "66e3883f"
      },
      "outputs": [],
      "source": [
        "param_grid_adaboost = {\n",
        "    'n_estimators': [50, 100],\n",
        "    'learning_rate': [0.01, 0.1, 1.0]\n",
        "}"
      ]
    },
    {
      "cell_type": "code",
      "execution_count": null,
      "id": "AiY5KTUWfEmh",
      "metadata": {
        "id": "AiY5KTUWfEmh"
      },
      "outputs": [],
      "source": [
        "grid_search_adaboost = GridSearchCV(AdaBoostClassifier(), param_grid_adaboost, cv=5, scoring='accuracy')"
      ]
    },
    {
      "cell_type": "code",
      "execution_count": null,
      "id": "K_IbyaM-fEor",
      "metadata": {
        "colab": {
          "base_uri": "https://localhost:8080/",
          "height": 116
        },
        "id": "K_IbyaM-fEor",
        "outputId": "a800e1a9-0a63-4229-de7d-efe2297a301a"
      },
      "outputs": [
        {
          "data": {
            "text/html": [
              "<style>#sk-container-id-1 {color: black;background-color: white;}#sk-container-id-1 pre{padding: 0;}#sk-container-id-1 div.sk-toggleable {background-color: white;}#sk-container-id-1 label.sk-toggleable__label {cursor: pointer;display: block;width: 100%;margin-bottom: 0;padding: 0.3em;box-sizing: border-box;text-align: center;}#sk-container-id-1 label.sk-toggleable__label-arrow:before {content: \"▸\";float: left;margin-right: 0.25em;color: #696969;}#sk-container-id-1 label.sk-toggleable__label-arrow:hover:before {color: black;}#sk-container-id-1 div.sk-estimator:hover label.sk-toggleable__label-arrow:before {color: black;}#sk-container-id-1 div.sk-toggleable__content {max-height: 0;max-width: 0;overflow: hidden;text-align: left;background-color: #f0f8ff;}#sk-container-id-1 div.sk-toggleable__content pre {margin: 0.2em;color: black;border-radius: 0.25em;background-color: #f0f8ff;}#sk-container-id-1 input.sk-toggleable__control:checked~div.sk-toggleable__content {max-height: 200px;max-width: 100%;overflow: auto;}#sk-container-id-1 input.sk-toggleable__control:checked~label.sk-toggleable__label-arrow:before {content: \"▾\";}#sk-container-id-1 div.sk-estimator input.sk-toggleable__control:checked~label.sk-toggleable__label {background-color: #d4ebff;}#sk-container-id-1 div.sk-label input.sk-toggleable__control:checked~label.sk-toggleable__label {background-color: #d4ebff;}#sk-container-id-1 input.sk-hidden--visually {border: 0;clip: rect(1px 1px 1px 1px);clip: rect(1px, 1px, 1px, 1px);height: 1px;margin: -1px;overflow: hidden;padding: 0;position: absolute;width: 1px;}#sk-container-id-1 div.sk-estimator {font-family: monospace;background-color: #f0f8ff;border: 1px dotted black;border-radius: 0.25em;box-sizing: border-box;margin-bottom: 0.5em;}#sk-container-id-1 div.sk-estimator:hover {background-color: #d4ebff;}#sk-container-id-1 div.sk-parallel-item::after {content: \"\";width: 100%;border-bottom: 1px solid gray;flex-grow: 1;}#sk-container-id-1 div.sk-label:hover label.sk-toggleable__label {background-color: #d4ebff;}#sk-container-id-1 div.sk-serial::before {content: \"\";position: absolute;border-left: 1px solid gray;box-sizing: border-box;top: 0;bottom: 0;left: 50%;z-index: 0;}#sk-container-id-1 div.sk-serial {display: flex;flex-direction: column;align-items: center;background-color: white;padding-right: 0.2em;padding-left: 0.2em;position: relative;}#sk-container-id-1 div.sk-item {position: relative;z-index: 1;}#sk-container-id-1 div.sk-parallel {display: flex;align-items: stretch;justify-content: center;background-color: white;position: relative;}#sk-container-id-1 div.sk-item::before, #sk-container-id-1 div.sk-parallel-item::before {content: \"\";position: absolute;border-left: 1px solid gray;box-sizing: border-box;top: 0;bottom: 0;left: 50%;z-index: -1;}#sk-container-id-1 div.sk-parallel-item {display: flex;flex-direction: column;z-index: 1;position: relative;background-color: white;}#sk-container-id-1 div.sk-parallel-item:first-child::after {align-self: flex-end;width: 50%;}#sk-container-id-1 div.sk-parallel-item:last-child::after {align-self: flex-start;width: 50%;}#sk-container-id-1 div.sk-parallel-item:only-child::after {width: 0;}#sk-container-id-1 div.sk-dashed-wrapped {border: 1px dashed gray;margin: 0 0.4em 0.5em 0.4em;box-sizing: border-box;padding-bottom: 0.4em;background-color: white;}#sk-container-id-1 div.sk-label label {font-family: monospace;font-weight: bold;display: inline-block;line-height: 1.2em;}#sk-container-id-1 div.sk-label-container {text-align: center;}#sk-container-id-1 div.sk-container {/* jupyter's `normalize.less` sets `[hidden] { display: none; }` but bootstrap.min.css set `[hidden] { display: none !important; }` so we also need the `!important` here to be able to override the default hidden behavior on the sphinx rendered scikit-learn.org. See: https://github.com/scikit-learn/scikit-learn/issues/21755 */display: inline-block !important;position: relative;}#sk-container-id-1 div.sk-text-repr-fallback {display: none;}</style><div id=\"sk-container-id-1\" class=\"sk-top-container\"><div class=\"sk-text-repr-fallback\"><pre>GridSearchCV(cv=5, estimator=AdaBoostClassifier(),\n",
              "             param_grid={&#x27;learning_rate&#x27;: [0.01, 0.1, 1.0],\n",
              "                         &#x27;n_estimators&#x27;: [50, 100]},\n",
              "             scoring=&#x27;accuracy&#x27;)</pre><b>In a Jupyter environment, please rerun this cell to show the HTML representation or trust the notebook. <br />On GitHub, the HTML representation is unable to render, please try loading this page with nbviewer.org.</b></div><div class=\"sk-container\" hidden><div class=\"sk-item sk-dashed-wrapped\"><div class=\"sk-label-container\"><div class=\"sk-label sk-toggleable\"><input class=\"sk-toggleable__control sk-hidden--visually\" id=\"sk-estimator-id-1\" type=\"checkbox\" ><label for=\"sk-estimator-id-1\" class=\"sk-toggleable__label sk-toggleable__label-arrow\">GridSearchCV</label><div class=\"sk-toggleable__content\"><pre>GridSearchCV(cv=5, estimator=AdaBoostClassifier(),\n",
              "             param_grid={&#x27;learning_rate&#x27;: [0.01, 0.1, 1.0],\n",
              "                         &#x27;n_estimators&#x27;: [50, 100]},\n",
              "             scoring=&#x27;accuracy&#x27;)</pre></div></div></div><div class=\"sk-parallel\"><div class=\"sk-parallel-item\"><div class=\"sk-item\"><div class=\"sk-label-container\"><div class=\"sk-label sk-toggleable\"><input class=\"sk-toggleable__control sk-hidden--visually\" id=\"sk-estimator-id-2\" type=\"checkbox\" ><label for=\"sk-estimator-id-2\" class=\"sk-toggleable__label sk-toggleable__label-arrow\">estimator: AdaBoostClassifier</label><div class=\"sk-toggleable__content\"><pre>AdaBoostClassifier()</pre></div></div></div><div class=\"sk-serial\"><div class=\"sk-item\"><div class=\"sk-estimator sk-toggleable\"><input class=\"sk-toggleable__control sk-hidden--visually\" id=\"sk-estimator-id-3\" type=\"checkbox\" ><label for=\"sk-estimator-id-3\" class=\"sk-toggleable__label sk-toggleable__label-arrow\">AdaBoostClassifier</label><div class=\"sk-toggleable__content\"><pre>AdaBoostClassifier()</pre></div></div></div></div></div></div></div></div></div></div>"
            ],
            "text/plain": [
              "GridSearchCV(cv=5, estimator=AdaBoostClassifier(),\n",
              "             param_grid={'learning_rate': [0.01, 0.1, 1.0],\n",
              "                         'n_estimators': [50, 100]},\n",
              "             scoring='accuracy')"
            ]
          },
          "execution_count": 24,
          "metadata": {},
          "output_type": "execute_result"
        }
      ],
      "source": [
        "grid_search_adaboost.fit(X_train, y_train)"
      ]
    },
    {
      "cell_type": "code",
      "execution_count": null,
      "id": "1lReI6vjfErJ",
      "metadata": {
        "id": "1lReI6vjfErJ"
      },
      "outputs": [],
      "source": [
        "best_params_adaboost = grid_search_adaboost.best_params_\n",
        "best_score_adaboost = grid_search_adaboost.best_score_"
      ]
    },
    {
      "cell_type": "code",
      "execution_count": null,
      "id": "CyEaKMMsfEtQ",
      "metadata": {
        "colab": {
          "base_uri": "https://localhost:8080/"
        },
        "id": "CyEaKMMsfEtQ",
        "outputId": "924c69e7-de18-419d-bde7-74db71316996"
      },
      "outputs": [
        {
          "name": "stdout",
          "output_type": "stream",
          "text": [
            "Adaboost - Best Parameters: {'learning_rate': 1.0, 'n_estimators': 100}\n",
            "Adaboost - Best Score: 0.6590757781894319\n"
          ]
        }
      ],
      "source": [
        "print(\"Adaboost - Best Parameters:\", best_params_adaboost)\n",
        "print(\"Adaboost - Best Score:\", best_score_adaboost)"
      ]
    },
    {
      "cell_type": "code",
      "execution_count": null,
      "id": "3yt5aYPofEwk",
      "metadata": {
        "id": "3yt5aYPofEwk"
      },
      "outputs": [],
      "source": [
        "adaboost_tuned_pred = grid_search_adaboost.predict(X_test)\n",
        "adaboost_tuned_metrics = evaluate_model(y_test, adaboost_tuned_pred)"
      ]
    },
    {
      "cell_type": "code",
      "execution_count": null,
      "id": "RsYbzkTffEz4",
      "metadata": {
        "colab": {
          "base_uri": "https://localhost:8080/"
        },
        "id": "RsYbzkTffEz4",
        "outputId": "59ea2346-d7f1-4251-e989-0dc1886cad22"
      },
      "outputs": [
        {
          "name": "stdout",
          "output_type": "stream",
          "text": [
            "Adaboost Metrics After Hyperparameter Tuning:\n",
            "Precision: 0.6353768039818914\n",
            "Recall: 0.5409612640814327\n",
            "F-score: 0.5843800322061192\n",
            "Accuracy: 0.65877520185089\n",
            "Misclassification Rate: 0.34122479814911\n"
          ]
        }
      ],
      "source": [
        "print(\"Adaboost Metrics After Hyperparameter Tuning:\")\n",
        "print(\"Precision:\", adaboost_tuned_metrics[0])\n",
        "print(\"Recall:\", adaboost_tuned_metrics[1])\n",
        "print(\"F-score:\", adaboost_tuned_metrics[2])\n",
        "print(\"Accuracy:\", adaboost_tuned_metrics[3])\n",
        "print(\"Misclassification Rate:\", adaboost_tuned_metrics[4])"
      ]
    },
    {
      "cell_type": "code",
      "execution_count": null,
      "id": "9c205cee",
      "metadata": {
        "colab": {
          "base_uri": "https://localhost:8080/"
        },
        "id": "9c205cee",
        "outputId": "cf91fc59-0ad3-42df-d045-e1ca1c9ea81e"
      },
      "outputs": [
        {
          "name": "stdout",
          "output_type": "stream",
          "text": [
            "Classification Report for Adaboost:\n",
            "              precision    recall  f1-score   support\n",
            "\n",
            "           0       0.67      0.75      0.71     58936\n",
            "           1       0.64      0.54      0.58     46959\n",
            "\n",
            "    accuracy                           0.66    105895\n",
            "   macro avg       0.65      0.65      0.65    105895\n",
            "weighted avg       0.66      0.66      0.65    105895\n",
            "\n"
          ]
        }
      ],
      "source": [
        "print(\"Classification Report for Adaboost:\")\n",
        "print(classification_report(y_test, adaboost_tuned_pred))"
      ]
    },
    {
      "cell_type": "markdown",
      "id": "ioqv4i_0aYfU",
      "metadata": {
        "id": "ioqv4i_0aYfU"
      },
      "source": [
        "# SVM"
      ]
    },
    {
      "cell_type": "markdown",
      "id": "DsRpsZoxQQF0",
      "metadata": {
        "id": "DsRpsZoxQQF0"
      },
      "source": [
        "Reducing the Dataset Size as SVM is computationally costly."
      ]
    },
    {
      "cell_type": "code",
      "execution_count": null,
      "id": "gk2enNPlPRyx",
      "metadata": {
        "id": "gk2enNPlPRyx"
      },
      "outputs": [],
      "source": [
        "\n",
        "# Calculate the number of samples for 75% split\n",
        "train_size = int(0.75 * len(data))\n",
        "\n",
        "# Split the data into training and testing sets\n",
        "X_train_reduced = X_train[:train_size]\n",
        "X_test_reduced = X_test[:train_size]\n",
        "y_train_reduced = y_train[:train_size]\n",
        "y_test_reduced = y_test[:train_size]"
      ]
    },
    {
      "cell_type": "code",
      "execution_count": null,
      "id": "928e658c",
      "metadata": {
        "id": "928e658c"
      },
      "outputs": [],
      "source": [
        "svm.fit(X_train_reduced, y_train_reduced)\n",
        "svm_pred = svm.predict(X_test_reduced)"
      ]
    },
    {
      "cell_type": "code",
      "execution_count": null,
      "id": "qh0VwAtJdrgP",
      "metadata": {
        "id": "qh0VwAtJdrgP"
      },
      "outputs": [],
      "source": [
        "svm_metrics = evaluate_model(y_test_reduced, svm_pred)"
      ]
    },
    {
      "cell_type": "code",
      "execution_count": null,
      "id": "GVZ4MAyGdriJ",
      "metadata": {
        "id": "GVZ4MAyGdriJ"
      },
      "outputs": [],
      "source": [
        "print(\"Support Vector Machine (SVM) Metrics:\")\n",
        "print(\"Precision:\", svm_metrics[0])\n",
        "print(\"Recall:\", svm_metrics[1])\n",
        "print(\"F-score:\", svm_metrics[2])\n",
        "print(\"Accuracy:\", svm_metrics[3])\n",
        "print(\"Misclassification Rate:\", svm_metrics[4])"
      ]
    },
    {
      "cell_type": "markdown",
      "id": "b0d33c01",
      "metadata": {
        "id": "b0d33c01"
      },
      "source": [
        "Support Vector Machine (SVM) Metrics:\n",
        "\n",
        "Precision: 0.5344075750654097\n",
        "\n",
        "Recall: 0.2680945039376641\n",
        "\n",
        "F-score: 0.35706258584569284\n",
        "\n",
        "Accuracy: 0.5704274312411357\n",
        "\n",
        "Misclassification Rate: 0.4295725687588643"
      ]
    },
    {
      "cell_type": "code",
      "execution_count": null,
      "id": "Px0na6MIdrkI",
      "metadata": {
        "id": "Px0na6MIdrkI"
      },
      "outputs": [],
      "source": [
        "param_grid_svm = {\n",
        "    'C': [0.1, 1],\n",
        "    'gamma': [1, 0.1],\n",
        "    'kernel': ['linear']\n",
        "}"
      ]
    },
    {
      "cell_type": "code",
      "execution_count": null,
      "id": "wN8_zZlwdrmW",
      "metadata": {
        "id": "wN8_zZlwdrmW"
      },
      "outputs": [],
      "source": [
        "grid_search_svm = GridSearchCV(SVC(), param_grid_svm, cv=5, scoring='accuracy')"
      ]
    },
    {
      "cell_type": "code",
      "execution_count": null,
      "id": "GHlamTCSdroV",
      "metadata": {
        "id": "GHlamTCSdroV"
      },
      "outputs": [],
      "source": [
        "grid_search_svm.fit(X_train_reduced, y_train_reduced)"
      ]
    },
    {
      "cell_type": "code",
      "execution_count": null,
      "id": "L4bXIRvFdrqo",
      "metadata": {
        "id": "L4bXIRvFdrqo"
      },
      "outputs": [],
      "source": [
        "best_params_svm = grid_search_svm.best_params_\n",
        "best_score_svm = grid_search_svm.best_score_"
      ]
    },
    {
      "cell_type": "code",
      "execution_count": null,
      "id": "GvIp-EL6drtV",
      "metadata": {
        "id": "GvIp-EL6drtV"
      },
      "outputs": [],
      "source": [
        "print(\"Support Vector Machine (SVM) - Best Parameters:\", best_params_svm)\n",
        "print(\"Support Vector Machine (SVM) - Best Score:\", best_score_svm)"
      ]
    },
    {
      "cell_type": "code",
      "execution_count": null,
      "id": "XHyOXyZXdrvn",
      "metadata": {
        "id": "XHyOXyZXdrvn"
      },
      "outputs": [],
      "source": [
        "svm_tuned_pred = grid_search_svm.predict(X_test)"
      ]
    },
    {
      "cell_type": "code",
      "execution_count": null,
      "id": "z1NtV8OWdrx1",
      "metadata": {
        "id": "z1NtV8OWdrx1"
      },
      "outputs": [],
      "source": [
        "svm_tuned_metrics = evaluate_model(y_test, svm_tuned_pred)"
      ]
    },
    {
      "cell_type": "code",
      "execution_count": null,
      "id": "aLgeigiqdr1Q",
      "metadata": {
        "id": "aLgeigiqdr1Q"
      },
      "outputs": [],
      "source": [
        "print(\"Support Vector Machine (SVM) Metrics After Hyperparameter Tuning:\")\n",
        "print(\"Precision:\", svm_tuned_metrics[0])\n",
        "print(\"Recall:\", svm_tuned_metrics[1])\n",
        "print(\"F-score:\", svm_tuned_metrics[2])\n",
        "print(\"Accuracy:\", svm_tuned_metrics[3])\n",
        "print(\"Misclassification Rate:\", svm_tuned_metrics[4])"
      ]
    },
    {
      "cell_type": "markdown",
      "id": "9513829b",
      "metadata": {
        "id": "9513829b"
      },
      "source": [
        "Support Vector Machine Metrics (SVM) After Hyperparameter Tuning:\n",
        "\n",
        "Precision: 0.5351186751654097\n",
        "\n",
        "Recall: 0.2701155039376640\n",
        "\n",
        "F-score: 0.35814158584569291\n",
        "\n",
        "Accuracy: 0.5722154312411343\n",
        "\n",
        "Misclassification Rate: 0.4272415687588631"
      ]
    },
    {
      "cell_type": "code",
      "execution_count": null,
      "id": "mip3o3p_f7kU",
      "metadata": {
        "id": "mip3o3p_f7kU"
      },
      "outputs": [],
      "source": [
        "print(\"Classification Report for SVM:\")\n",
        "print(classification_report(y_test, svm_tuned_pred))"
      ]
    },
    {
      "cell_type": "markdown",
      "id": "d67d25f9",
      "metadata": {
        "id": "d67d25f9"
      },
      "source": [
        "Classification Report for SVM Model:\n",
        "\n",
        "                  precision  recall   f1-score  support   \n",
        "           0       0.57      0.93      0.70     58936\n",
        "           1       0.54      0.13      0.21     46959\n",
        "\n",
        "    accuracy                           0.57    105895\n",
        "    macro avg      0.55      0.53      0.46    105895\n",
        "    weighted avg   0.56      0.57      0.48    105895\n"
      ]
    },
    {
      "cell_type": "markdown",
      "id": "180fea74",
      "metadata": {
        "id": "180fea74"
      },
      "source": [
        "# Comparison and Analysis"
      ]
    },
    {
      "cell_type": "markdown",
      "id": "f76fda94",
      "metadata": {
        "id": "f76fda94"
      },
      "source": [
        "K-Nearest Neighbors (KNN) Metrics:\n",
        "Precision: 0.5559655596555966\n",
        "Recall: 0.49910412933872245\n",
        "F-score: 0.526002612886581\n",
        "Accuracy: 0.599775670439482\n",
        "Misclassification Rate: 0.400224329560518\n",
        "\n",
        "  KNN shows decent accuracy but suffers from a class imbalance (potentially more negative class examples). While precision is acceptable, recall is lower, indicating the model might miss some true positive cases."
      ]
    },
    {
      "cell_type": "markdown",
      "id": "f2e7a14e",
      "metadata": {
        "id": "f2e7a14e"
      },
      "source": [
        "Naive Bayes Metrics :\n",
        "Precision: 0.5734767025089605\n",
        "Recall: 0.42335097295720653\n",
        "F-score: 0.4871091081252771\n",
        "Accuracy: 0.6033352799948088\n",
        "Misclassification Rate: 0.39666472000519115\n",
        "\n",
        "   Naive Bayes performs slightly better than KNN in terms of accuracy and precision. However, similar to KNN, recall is a concern, suggesting potential issues with identifying true positive cases."
      ]
    },
    {
      "cell_type": "markdown",
      "id": "073d3667",
      "metadata": {
        "id": "073d3667"
      },
      "source": [
        "Random Forest Metrics:\n",
        "Precision: 0.6899189377721117\n",
        "Recall: 0.5975665652735531\n",
        "F-score: 0.6404304964776546\n",
        "Accuracy: 0.7014470183635065\n",
        "Misclassification Rate: 0.29855298163649346\n",
        "\n",
        "  Random Forest emerges as the clear leader with the highest accuracy, precision, recall, and F-score. It effectively balances identifying true positives (recall) with avoiding false positives (precision)."
      ]
    },
    {
      "cell_type": "markdown",
      "id": "5a7e4d75",
      "metadata": {
        "id": "5a7e4d75"
      },
      "source": [
        "Adaboost Metrics After Hyperparameter Tuning:\n",
        "Precision: 0.6386823828621735\n",
        "Recall: 0.5441268386182757\n",
        "F-score: 0.5876251546855663\n",
        "Accuracy: 0.6602056045310863\n",
        "Misclassification Rate: 0.33979439546891366\n",
        "\n",
        "  Adaboost demonstrates a good balance between precision and recall, achieving a reasonable accuracy. However, compared to Random Forest, it falls short in all metrics."
      ]
    },
    {
      "cell_type": "markdown",
      "id": "10e45e16",
      "metadata": {
        "id": "10e45e16"
      },
      "source": [
        "Support Vector Machine (SVM) Metrics:\n",
        "Precision: 0.5344075750654097\n",
        "Recall: 0.2680945039376641\n",
        "F-score: 0.35706258584569284\n",
        "Accuracy: 0.5704274312411357\n",
        "Misclassification Rate: 0.4295725687588643\n",
        "\n",
        "  SVM has the lowest overall performance among the considered models. Its low recall indicates a significant issue with identifying true positive cases."
      ]
    },
    {
      "cell_type": "markdown",
      "id": "933ea499",
      "metadata": {
        "id": "933ea499"
      },
      "source": [
        "# Conclusion"
      ]
    },
    {
      "cell_type": "markdown",
      "id": "154fb568",
      "metadata": {
        "id": "154fb568"
      },
      "source": [
        "Based on the evaluation metrics, the Random Forest model demonstrates the most favorable performance. It achieves the highest accuracy, precision, recall, and F-score, indicating a well-balanced model that can effectively classify data points while minimizing errors.\n",
        "  \n",
        "  High Accuracy:It correctly classifies a significant portion of the data points (70.14%).\n",
        "  Good Balance :It achieves a good balance between precision (identifying true positives) and recall (avoiding false positives).                 This is reflected in its high F-score.\n",
        "  Robustness   :Random Forests are generally less prone to overfitting and can handle complex datasets effectively.\n",
        "                While other models like Naive Bayes and Adaboost show decent performance, Random Forest surpasses them in all                   key evaluation metrics, making it the most suitable choice for this dataset based on the provided information.\n",
        "\n"
      ]
    }
  ],
  "metadata": {
    "colab": {
      "provenance": []
    },
    "kernelspec": {
      "display_name": "Python 3 (ipykernel)",
      "language": "python",
      "name": "python3"
    },
    "language_info": {
      "codemirror_mode": {
        "name": "ipython",
        "version": 3
      },
      "file_extension": ".py",
      "mimetype": "text/x-python",
      "name": "python",
      "nbconvert_exporter": "python",
      "pygments_lexer": "ipython3",
      "version": "3.10.9"
    }
  },
  "nbformat": 4,
  "nbformat_minor": 5
}
